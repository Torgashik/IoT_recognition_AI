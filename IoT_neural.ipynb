{
  "cells": [
    {
      "cell_type": "markdown",
      "metadata": {
        "id": "zM4oUFLO_sue"
      },
      "source": [
        "### Установка PcapPlusPlus"
      ]
    },
    {
      "cell_type": "code",
      "execution_count": null,
      "metadata": {
        "colab": {
          "base_uri": "https://localhost:8080/"
        },
        "id": "7J7yL2mo-3R3",
        "outputId": "feb35801-72e1-4d47-f044-9ed468a6c6c6"
      },
      "outputs": [],
      "source": [
        "!wget https://github.com/seladb/PcapPlusPlus/releases/download/v22.11/pcapplusplus-22.11-ubuntu-20.04-gcc-9.tar.gz"
      ]
    },
    {
      "cell_type": "code",
      "execution_count": null,
      "metadata": {
        "colab": {
          "base_uri": "https://localhost:8080/"
        },
        "id": "27AGSHEM_yRf",
        "outputId": "b7d8b004-a6d9-4df0-eaa4-b4b367405006"
      },
      "outputs": [],
      "source": [
        "!mkdir pcpp_folder\n",
        "!tar -xzvf \"pcapplusplus-22.11-ubuntu-20.04-gcc-9.tar.gz\" -C \"pcpp_folder/\""
      ]
    },
    {
      "cell_type": "code",
      "execution_count": null,
      "metadata": {
        "colab": {
          "base_uri": "https://localhost:8080/"
        },
        "id": "w2cFn-9F_-Kn",
        "outputId": "b0be8c0d-21f0-40f5-9c88-d30840af1cfd"
      },
      "outputs": [],
      "source": [
        "%cd pcpp_folder/pcapplusplus-22.11-ubuntu-20.04-gcc-9\n",
        "%ls"
      ]
    },
    {
      "cell_type": "code",
      "execution_count": null,
      "metadata": {
        "colab": {
          "base_uri": "https://localhost:8080/"
        },
        "id": "7x0DZhAjAHNF",
        "outputId": "f98e7da2-f6d6-4aa3-e810-0d37ce89600f"
      },
      "outputs": [],
      "source": [
        "!./install.sh"
      ]
    },
    {
      "cell_type": "code",
      "execution_count": null,
      "metadata": {
        "colab": {
          "base_uri": "https://localhost:8080/"
        },
        "id": "4nadEY3NB7lO",
        "outputId": "ed7fa6a8-7684-4e89-c407-2bd94cbafa15"
      },
      "outputs": [],
      "source": [
        "%cd ../.."
      ]
    },
    {
      "cell_type": "code",
      "execution_count": null,
      "metadata": {
        "colab": {
          "base_uri": "https://localhost:8080/"
        },
        "id": "zyPkLiBjIFmN",
        "outputId": "d708972f-a3c0-4320-c5d7-87af0d13fbcd"
      },
      "outputs": [],
      "source": [
        "!apt install libpcap-dev"
      ]
    },
    {
      "cell_type": "markdown",
      "metadata": {
        "id": "-iaIhNnQAQBG"
      },
      "source": [
        "### Предобработка данных"
      ]
    },
    {
      "cell_type": "code",
      "execution_count": null,
      "metadata": {
        "colab": {
          "base_uri": "https://localhost:8080/"
        },
        "id": "besEZbJx27TZ",
        "outputId": "51db779c-bd1f-4263-c975-759c035dc37c"
      },
      "outputs": [],
      "source": [
        "!wget https://getfile.dokpub.com/yandex/get/https://disk.yandex.ru/d/2yPkJS__Z5QZIA\n",
        "!mv 2yPkJS__Z5QZIA common.pcap"
      ]
    },
    {
      "cell_type": "code",
      "execution_count": null,
      "metadata": {
        "colab": {
          "base_uri": "https://localhost:8080/"
        },
        "id": "UjfdqjqF4LEv",
        "outputId": "07182fb3-d59a-42b3-804b-5d21cc09c6c2"
      },
      "outputs": [],
      "source": [
        "!rm -rf common_sessions_folder\n",
        "!mkdir common_sessions_folder\n",
        "!PcapSplitter -f common.pcap -o common_sessions_folder -m connection"
      ]
    },
    {
      "cell_type": "code",
      "execution_count": null,
      "metadata": {
        "colab": {
          "base_uri": "https://localhost:8080/"
        },
        "id": "RHB6eKRH1YtO",
        "outputId": "1b9b1e56-f58e-4991-b231-d50d1ff21027"
      },
      "outputs": [],
      "source": [
        "!wget https://getfile.dokpub.com/yandex/get/https://disk.yandex.ru/d/IVWwL_FLWKXXrQ\n",
        "!mv IVWwL_FLWKXXrQ iot.pcap"
      ]
    },
    {
      "cell_type": "code",
      "execution_count": null,
      "metadata": {
        "colab": {
          "base_uri": "https://localhost:8080/"
        },
        "id": "JNIi_43z1xdY",
        "outputId": "560d4b1c-05fb-4323-bbcf-3eba9d585082"
      },
      "outputs": [],
      "source": [
        "!rm -rf iot_sessions_folder\n",
        "!mkdir iot_sessions_folder\n",
        "!PcapSplitter -f iot.pcap -o iot_sessions_folder -m connection"
      ]
    },
    {
      "cell_type": "markdown",
      "metadata": {
        "id": "eD4gHKgioTMd"
      },
      "source": [
        "##### Выделение признаков\n",
        "scapy"
      ]
    },
    {
      "cell_type": "code",
      "execution_count": null,
      "metadata": {
        "colab": {
          "base_uri": "https://localhost:8080/"
        },
        "id": "-0K61nlpoRwa",
        "outputId": "5e0bf9c1-3a55-4a89-c51b-8112f89a862a"
      },
      "outputs": [],
      "source": [
        "!pip install scapy"
      ]
    },
    {
      "cell_type": "code",
      "execution_count": null,
      "metadata": {
        "id": "E9JtrwNAoYK3"
      },
      "outputs": [],
      "source": [
        "from scapy.all import *\n",
        "from os import listdir\n",
        "from os.path import isfile, join\n",
        "from tqdm.notebook import tqdm\n",
        "import numpy as np"
      ]
    },
    {
      "cell_type": "code",
      "execution_count": null,
      "metadata": {
        "id": "gOjsWDdPAZDP"
      },
      "outputs": [],
      "source": [
        "class Session(object):\n",
        "  pass"
      ]
    },
    {
      "cell_type": "markdown",
      "metadata": {
        "id": "M8ZODZ9vCL6M"
      },
      "source": [
        "\n",
        "\n",
        "---\n",
        "\n",
        "\n",
        "Функции-экстракторы фичей идут сюда"
      ]
    },
    {
      "cell_type": "markdown",
      "metadata": {
        "id": "BfE94YdVFB5Y"
      },
      "source": [
        "Шаблон функции для экстракции признаков:\n",
        "- принимает ссылку на объект session - в него нужно записать выделенный признак\n",
        "- принимает scapy reader пакетов\n",
        "- возвращает True - если всё окей, False - если сессия считается некорректной\n",
        "\n",
        " (например, если payload пустой)"
      ]
    },
    {
      "cell_type": "code",
      "execution_count": null,
      "metadata": {
        "id": "jiVhjn7aCaXj"
      },
      "outputs": [],
      "source": [
        "def sample_feature_extraction_function(session, reader):\n",
        "  first_pkt = next(iter(reader))\n",
        "  session.new_feature(first_pkt)\n",
        "  return True"
      ]
    },
    {
      "cell_type": "code",
      "execution_count": null,
      "metadata": {
        "id": "oXv0uEiuOPUC"
      },
      "outputs": [],
      "source": [
        "MAX_PACKETS_TO_USE = 10"
      ]
    },
    {
      "cell_type": "code",
      "execution_count": null,
      "metadata": {
        "id": "QeSz3UMA2JH8"
      },
      "outputs": [],
      "source": [
        "def get_packet_length_features(session, reader):\n",
        "  pkt_lens = []\n",
        "  pld_lens = []\n",
        "  i = 0\n",
        "  for pkt in reader:\n",
        "    # Что делать, если payload нулевой? Его не учитывать?\n",
        "    pkt_lens.append(len(bytes(pkt)))\n",
        "    pld_lens.append(len(bytes(pkt[IP].payload.payload)))\n",
        "    i += 1\n",
        "    if i == MAX_PACKETS_TO_USE:\n",
        "      break\n",
        "  pkt_n = len(pkt_lens)\n",
        "  assert pkt_n >= 1\n",
        "  session.pkt_n = pkt_n\n",
        "  # Все, что не является average, а зависит от общего кол-ва пакетов в сессии\n",
        "  # имеет не так много смысла из-за ограничения в 10 пакетов\n",
        "  session.sum_pkt_lens = sum(pkt_lens)\n",
        "  session.sum_pld_lens = sum(pld_lens)\n",
        "  session.avg_pkt_len = session.sum_pkt_lens / pkt_n\n",
        "  session.avg_pld_len = session.sum_pld_lens / pkt_n\n",
        "  session.min_pkt_len = min(pkt_lens)\n",
        "  session.max_pkt_len = max(pkt_lens)\n",
        "  # среднеквадратичное отклонение\n",
        "  if pkt_n == 1:\n",
        "    session.std_dev_pkt_len = 0\n",
        "  else:\n",
        "    session.std_dev_pkt_len = (sum(((pkt_len - session.avg_pkt_len) ** 2 for pkt_len in pkt_lens)) / (pkt_n - 1)) ** 0.5\n",
        "  return True"
      ]
    },
    {
      "cell_type": "code",
      "execution_count": null,
      "metadata": {
        "id": "AOmk__81N4oO"
      },
      "outputs": [],
      "source": [
        "def get_TTL(session, reader):\n",
        "  i = 0\n",
        "  sum_ttl = 0\n",
        "  for pkt in reader:\n",
        "    sum_ttl += pkt[IP].ttl\n",
        "    i += 1\n",
        "    if i == MAX_PACKETS_TO_USE:\n",
        "      break\n",
        "  assert i >= 1\n",
        "  session.avg_ttl = sum_ttl / i\n",
        "  return True"
      ]
    },
    {
      "cell_type": "code",
      "execution_count": null,
      "metadata": {
        "id": "Mz9X0799PtKV"
      },
      "outputs": [],
      "source": [
        "def get_updownlink(session, subnet_ip_first_3):\n",
        "  first_3_pieces = '.'.join(session.src.split('.')[0:3])\n",
        "  session.updownlink = 0 if first_3_pieces == subnet_ip_first_3 else 1\n",
        "  return True"
      ]
    },
    {
      "cell_type": "code",
      "execution_count": null,
      "metadata": {
        "id": "x2QNNC-yMGCG"
      },
      "outputs": [],
      "source": [
        "def get_session_duration(session, reader):\n",
        "  start_time = None\n",
        "  end_time = None\n",
        "  i = 0\n",
        "  for pkt in reader:\n",
        "    i += 1\n",
        "    if not start_time:\n",
        "      start_time = pkt.time\n",
        "    end_time = pkt.time\n",
        "    if i == MAX_PACKETS_TO_USE:\n",
        "      break\n",
        "  # в секундах\n",
        "  session.duration = end_time - start_time if end_time and start_time else 0\n",
        "  return True"
      ]
    },
    {
      "cell_type": "code",
      "execution_count": null,
      "metadata": {
        "id": "8tnXtOadfWXm"
      },
      "outputs": [],
      "source": [
        "def get_packet_delays(session, reader):\n",
        "  min_delay = float('inf')\n",
        "  max_delay = 0\n",
        "  total_delay = 0\n",
        "  num_packets = 0\n",
        "  prev_time = None\n",
        "  i = 0\n",
        "  for pkt in reader:\n",
        "    i += 1\n",
        "    if not prev_time:\n",
        "      prev_time = pkt.time\n",
        "      continue\n",
        "    delay = pkt.time - prev_time\n",
        "    total_delay += delay\n",
        "    num_packets += 1\n",
        "    prev_time = pkt.time\n",
        "    if delay > max_delay:\n",
        "      max_delay = delay\n",
        "    if delay < min_delay:\n",
        "      min_delay = delay\n",
        "    if i == MAX_PACKETS_TO_USE:\n",
        "      break\n",
        "  if num_packets > 0:\n",
        "    session.avg_delay = total_delay / num_packets\n",
        "  else:\n",
        "    session.avg_delay = 0\n",
        "  if num_packets == 0:\n",
        "    session.min_delay = 0\n",
        "  else:\n",
        "    session.min_delay = min_delay\n",
        "  session.max_delay = max_delay\n",
        "  return True"
      ]
    },
    {
      "cell_type": "code",
      "execution_count": null,
      "metadata": {
        "id": "dI8VUHN04el2"
      },
      "outputs": [],
      "source": [
        "def get_rate_features(session):\n",
        "  if (session.duration != 0):\n",
        "    session.pkt_rate = session.pkt_n / session.duration\n",
        "    session.bytes_rate = session.sum_pkt_lens / session.duration\n",
        "  else:\n",
        "    session.pkt_rate = 0\n",
        "    session.bytes_rate = 0\n",
        "  return True"
      ]
    },
    {
      "cell_type": "markdown",
      "metadata": {
        "id": "RA8VI4Z8CXlA"
      },
      "source": [
        "---"
      ]
    },
    {
      "cell_type": "code",
      "execution_count": null,
      "metadata": {
        "id": "aSntx-Ak_kTt"
      },
      "outputs": [],
      "source": [
        "def extract_features(session, filepath, subnet_ip_first_3):\n",
        "  return get_packet_length_features(session, PcapReader(filepath)) and \\\n",
        "  get_TTL(session, PcapReader(filepath)) and \\\n",
        "  get_updownlink(session, subnet_ip_first_3) and \\\n",
        "  get_session_duration(session, PcapReader(filepath)) and \\\n",
        "  get_packet_delays(session,PcapReader(filepath)) and \\\n",
        "  get_rate_features(session)"
      ]
    },
    {
      "cell_type": "code",
      "execution_count": null,
      "metadata": {
        "id": "SQh5GLe2SaPk"
      },
      "outputs": [],
      "source": [
        "def parse_sessions(folderpath, subnet_ip_first_3):\n",
        "  onlyfiles = [f for f in listdir(folderpath) if isfile(join(folderpath, f))]\n",
        "  bad_count = 0\n",
        "  data = []\n",
        "  for filename in tqdm(onlyfiles):\n",
        "    filepath = join(folderpath, filename)\n",
        "    session = Session()\n",
        "    reader = PcapReader(filepath)\n",
        "    pkt = next(iter(reader))\n",
        "    try:\n",
        "      session.src = pkt[IP].src\n",
        "      session.dst = pkt[IP].dst\n",
        "      session.sport = pkt[IP].sport\n",
        "      session.dport = pkt[IP].dport\n",
        "      session.l4_protocol = 0 if pkt[IP].payload.name == 'UDP' else 1\n",
        "    except:\n",
        "      bad_count += 1\n",
        "      continue\n",
        "    if extract_features(session, filepath, subnet_ip_first_3):\n",
        "      data.append(session)\n",
        "  print('%d sessions are bad' % bad_count)\n",
        "  return data"
      ]
    },
    {
      "cell_type": "code",
      "execution_count": null,
      "metadata": {
        "colab": {
          "base_uri": "https://localhost:8080/",
          "height": 116,
          "referenced_widgets": [
            "37586dbddd5f4633b725bef1711906df",
            "a860094fe240461389c4b85042e3086f",
            "71d27925cd6d4d3f9d44d1e452ff982b",
            "981230c4924746a888d22bf66d7b090d",
            "429567aaae704aa99e7a19711f5d0923",
            "e066db5c23434807abea0df103ebcd13",
            "59fc324a195843c3a7d67f499a7bbb08",
            "37105ecd03e847eab5bccc4cedeef9ce",
            "ccd68227ed4d45e395662671332a4dbd",
            "2aa2018154404a86a1f0391544fe345d",
            "6a685cc6ca39431e91666582dadcd5ea",
            "3f7a1180ab874d51afc32e407dc51da0",
            "d6a0cda573e34cdebd1f6fc1ba88e85a",
            "ea7b812ef9b346818a7e91898e6966bd",
            "7835b94a4cca46aa991cbfea41290310",
            "23ae4e6e7bc6463385eaeb2773269b52",
            "1e246a7f15dc46a8b751aca21439f898",
            "99af6f25bc624a4991e08d2087f1ff9f",
            "b3f6fd3d0b1844bebb8344e9dc301b1e",
            "25600dc39b1b48d88c91f44d738621d9",
            "a7ad913d2674439da3e4be50ee9c2718",
            "09bd30df18f54d04a3002adc5520e86c"
          ]
        },
        "id": "o18-zcBXAowq",
        "outputId": "035c4206-3e1e-45e3-8afb-c3f9838e7899"
      },
      "outputs": [],
      "source": [
        "data_common = parse_sessions('common_sessions_folder', '192.168.2')\n",
        "data_iot = parse_sessions('iot_sessions_folder', '192.168.1')"
      ]
    },
    {
      "cell_type": "code",
      "execution_count": null,
      "metadata": {
        "id": "bQHJ2f_-to6P"
      },
      "outputs": [],
      "source": [
        "class MyOneHot(object):\n",
        "  def init(self, data):\n",
        "    unique = np.unique(data)\n",
        "    self.count = len(unique)\n",
        "    self.mapper = dict(zip(unique, np.arange(0, self.count)))\n",
        "    self.zeros = np.zeros(self.count)\n",
        "\n",
        "  def transform(self, one_item):\n",
        "    output = np.copy(self.zeros)\n",
        "    if one_item in self.mapper:\n",
        "      output[self.mapper[one_item]] = 1\n",
        "    return output"
      ]
    },
    {
      "cell_type": "code",
      "execution_count": null,
      "metadata": {
        "id": "FUoe8Imgp5Nd"
      },
      "outputs": [],
      "source": [
        "sport_one_hot = MyOneHot()\n",
        "sport_one_hot.init([session.sport for session in data_common] + [session.sport for session in data_iot])"
      ]
    },
    {
      "cell_type": "code",
      "execution_count": null,
      "metadata": {
        "id": "foQFnv6dxOHg"
      },
      "outputs": [],
      "source": [
        "dport_one_hot = MyOneHot()\n",
        "dport_one_hot.init([session.dport for session in data_common] + [session.dport for session in data_iot])"
      ]
    },
    {
      "cell_type": "code",
      "execution_count": null,
      "metadata": {
        "id": "mTTKqwJLwIeS"
      },
      "outputs": [],
      "source": [
        "def numpy_features_from_data(data):\n",
        "  return np.array(\n",
        "    [np.concatenate((sport_one_hot.transform(session.sport),\n",
        "                     dport_one_hot.transform(session.dport),\n",
        "                     [\n",
        "                     session.l4_protocol,\n",
        "                     session.updownlink,\n",
        "                     ],\n",
        "                     [\n",
        "                     session.pkt_n,\n",
        "                     session.sum_pkt_lens,\n",
        "                     session.sum_pld_lens,\n",
        "                     session.avg_pkt_len,\n",
        "                     session.avg_pld_len,\n",
        "                     session.min_pkt_len,\n",
        "                     session.max_pkt_len,\n",
        "                     session.std_dev_pkt_len,\n",
        "                     session.avg_ttl,\n",
        "                     session.duration,\n",
        "                     session.max_delay,\n",
        "                     session.min_delay,\n",
        "                     session.avg_delay,\n",
        "                     session.pkt_rate,\n",
        "                     session.bytes_rate,\n",
        "                     ],\n",
        "                     )) for session in data]\n",
        "    , dtype='float32')\n",
        "\n",
        "features_common = numpy_features_from_data(data_common)\n",
        "features_iot = numpy_features_from_data(data_iot)"
      ]
    },
    {
      "cell_type": "code",
      "execution_count": null,
      "metadata": {
        "colab": {
          "base_uri": "https://localhost:8080/"
        },
        "id": "BHUaXvI-xk0k",
        "outputId": "8b19a376-aa08-4d9b-f4ab-e1386768c042"
      },
      "outputs": [],
      "source": [
        "print(features_common.shape)\n",
        "print(features_iot.shape)"
      ]
    },
    {
      "cell_type": "code",
      "execution_count": null,
      "metadata": {
        "id": "uJ8StJ8BzsD8"
      },
      "outputs": [],
      "source": [
        "X_features = np.append(features_common,\n",
        "                       features_iot,\n",
        "                       axis=0)"
      ]
    },
    {
      "cell_type": "code",
      "execution_count": null,
      "metadata": {
        "id": "f-FADZvgz0k6"
      },
      "outputs": [],
      "source": [
        "y = np.append(np.zeros(features_common.shape[0]),\n",
        "              np.ones(features_iot.shape[0]))"
      ]
    },
    {
      "cell_type": "code",
      "execution_count": null,
      "metadata": {
        "id": "MwzjM-dGJyuI"
      },
      "outputs": [],
      "source": [
        "def get_median_and_iqr(x):\n",
        "  median = np.min(x, axis=0)\n",
        "  iqr = np.max(x, axis=0) - np.min(x, axis=0)\n",
        "  return median, iqr"
      ]
    },
    {
      "cell_type": "code",
      "execution_count": null,
      "metadata": {
        "colab": {
          "base_uri": "https://localhost:8080/"
        },
        "id": "jKr1_Xa8K8mX",
        "outputId": "e3f1e180-45ca-4689-dfba-0e83203186eb"
      },
      "outputs": [],
      "source": [
        "LAST_N_FEATURES_TO_NORMALIZE = 15\n",
        "median, iqr = get_median_and_iqr(X_features[:, -LAST_N_FEATURES_TO_NORMALIZE:])\n",
        "print(median, iqr)"
      ]
    },
    {
      "cell_type": "code",
      "execution_count": null,
      "metadata": {
        "id": "SyxkL4UTOEb9"
      },
      "outputs": [],
      "source": [
        "def normalize(x, median, iqr):\n",
        "  x_normalized = x.copy()\n",
        "  x_normalized[:, -LAST_N_FEATURES_TO_NORMALIZE:] = (x_normalized[:, -LAST_N_FEATURES_TO_NORMALIZE:] - median) / iqr\n",
        "  return x_normalized"
      ]
    },
    {
      "cell_type": "code",
      "execution_count": null,
      "metadata": {
        "id": "t7gz5-k2Q39l"
      },
      "outputs": [],
      "source": [
        "X_features = normalize(X_features, median, iqr)"
      ]
    },
    {
      "cell_type": "code",
      "execution_count": null,
      "metadata": {
        "colab": {
          "base_uri": "https://localhost:8080/"
        },
        "id": "Gjfsq9i16TDO",
        "outputId": "42d0e505-25a5-4fc5-c00c-6660aab20d61"
      },
      "outputs": [],
      "source": [
        "print(X_features.shape)\n",
        "print(y.shape)"
      ]
    },
    {
      "cell_type": "markdown",
      "metadata": {
        "id": "6GFRLyWcmC0g"
      },
      "source": [
        "### Обучение модели"
      ]
    },
    {
      "cell_type": "code",
      "execution_count": null,
      "metadata": {
        "id": "v1cG1kVMzMeY"
      },
      "outputs": [],
      "source": [
        "from sklearn.model_selection import train_test_split\n",
        "X_features_train, X_features_test, y_train, y_test = train_test_split(X_features, y, test_size=0.33, random_state=42, stratify=y)"
      ]
    },
    {
      "cell_type": "code",
      "execution_count": null,
      "metadata": {
        "id": "eDMK8bVMy7st"
      },
      "outputs": [],
      "source": [
        "import torch\n",
        "from torch import nn\n",
        "import torch.optim as optim\n",
        "from torch.utils.data import Dataset, DataLoader, SubsetRandomSampler\n",
        "from sklearn.model_selection import KFold\n",
        "from sklearn.utils.class_weight import compute_class_weight"
      ]
    },
    {
      "cell_type": "code",
      "execution_count": null,
      "metadata": {
        "id": "YcIQCRqj6e-C"
      },
      "outputs": [],
      "source": [
        "class CustomDataset(Dataset):\n",
        "  def __init__(self, features, targets):\n",
        "    self.features = features\n",
        "    self.targets = targets\n",
        "\n",
        "  def __len__(self):\n",
        "    return len(self.targets)\n",
        "\n",
        "  def __getitem__(self, idx):\n",
        "    return self.features[idx], self.targets[idx]"
      ]
    },
    {
      "cell_type": "code",
      "execution_count": null,
      "metadata": {
        "id": "G_AtK7BY6rHf"
      },
      "outputs": [],
      "source": [
        "train_dataset = CustomDataset(X_features_train, y_train)\n",
        "test_dataset = CustomDataset(X_features_test, y_test)"
      ]
    },
    {
      "cell_type": "code",
      "execution_count": null,
      "metadata": {
        "colab": {
          "base_uri": "https://localhost:8080/"
        },
        "id": "gjtQZ0Qp6xyQ",
        "outputId": "bc359d9a-7431-43af-df5d-70d60ca44e61"
      },
      "outputs": [],
      "source": [
        "weights = compute_class_weight('balanced', classes=[0, 1], y=y)\n",
        "weights"
      ]
    },
    {
      "cell_type": "markdown",
      "metadata": {
        "id": "_qJ6lifzbgU4"
      },
      "source": [
        "SVM"
      ]
    },
    {
      "cell_type": "code",
      "execution_count": null,
      "metadata": {
        "id": "1ExIDvK76-XQ"
      },
      "outputs": [],
      "source": [
        "import torch.nn.functional as F\n",
        "\n",
        "class TheSVM(nn.Module):\n",
        "  def __init__(self):\n",
        "    super().__init__()\n",
        "\n",
        "    self.fc1 = nn.Linear(10484, 300)\n",
        "    # self.dropout = nn.Dropout(p=0.8)\n",
        "    self.fc2 = nn.Linear(300, 2)\n",
        "\n",
        "  def forward(self, features):\n",
        "    features = F.relu(self.fc1(features))\n",
        "    # features = self.dropout(features)\n",
        "    features = self.fc2(features)\n",
        "\n",
        "    return features"
      ]
    },
    {
      "cell_type": "markdown",
      "metadata": {
        "id": "YxBGdErK9Brz"
      },
      "source": [
        "Smoke test"
      ]
    },
    {
      "cell_type": "code",
      "execution_count": null,
      "metadata": {
        "colab": {
          "base_uri": "https://localhost:8080/"
        },
        "id": "WTa2f34v9ADF",
        "outputId": "2af2aeb8-3711-41db-c163-d2ef66fc2a20"
      },
      "outputs": [],
      "source": [
        "def smoke_test():\n",
        "  model_classifier = TheSVM()\n",
        "  features = torch.randn(1, 10484)\n",
        "  assert model_classifier(features).shape == torch.Size([1, 2])\n",
        "  print(model_classifier(features))\n",
        "smoke_test()"
      ]
    },
    {
      "cell_type": "markdown",
      "metadata": {
        "id": "pjaP68K79v7W"
      },
      "source": [
        "Обучение"
      ]
    },
    {
      "cell_type": "code",
      "execution_count": null,
      "metadata": {
        "id": "PIZChvQH9sxy"
      },
      "outputs": [],
      "source": [
        "def validate(model, val_loader, device):\n",
        "  model.eval()\n",
        "  correct = 0\n",
        "  total = 0\n",
        "  with torch.no_grad():\n",
        "    for features, labels in val_loader:\n",
        "      features = features.to(device)\n",
        "      labels = labels.to(device)\n",
        "      outputs = model(features)\n",
        "      _, predicted = torch.max(outputs.data, 1)\n",
        "      total += labels.size(0)\n",
        "      correct += (predicted == labels).sum().item()\n",
        "\n",
        "  return correct / total"
      ]
    },
    {
      "cell_type": "code",
      "execution_count": null,
      "metadata": {
        "id": "E_PfcXw291Mk"
      },
      "outputs": [],
      "source": [
        "def train(model):\n",
        "  device = torch.device('cuda' if torch.cuda.is_available() else 'cpu')\n",
        "\n",
        "  model.to(device)\n",
        "\n",
        "  train_loader = DataLoader(train_dataset, batch_size=64, shuffle=True)\n",
        "  val_loader = DataLoader(test_dataset, batch_size=64, shuffle=False)\n",
        "\n",
        "  criterion = nn.CrossEntropyLoss(weight=torch.from_numpy(weights.astype('float32')).to(device))\n",
        "  optimizer = optim.Adam(model.parameters(), lr=0.001, weight_decay=1e-4)\n",
        "\n",
        "  for epoch in range(5):\n",
        "    model.train()\n",
        "    for features, labels in tqdm(train_loader):\n",
        "      labels = labels.type(torch.LongTensor)\n",
        "      optimizer.zero_grad()\n",
        "      output = model(features.to(device))\n",
        "      loss = criterion(output, labels.to(device))\n",
        "      loss.backward()\n",
        "      optimizer.step()\n",
        "    accuracy = validate(model, val_loader, device)\n",
        "    print(\"Epoch {} Loss {:.4f} Accuracy {:.4f}\".format(epoch,loss.item(), accuracy))"
      ]
    },
    {
      "cell_type": "code",
      "execution_count": null,
      "metadata": {
        "colab": {
          "base_uri": "https://localhost:8080/",
          "height": 264,
          "referenced_widgets": [
            "ac4c4f7ef5ad4c92beb525d01f7149a3",
            "772ceb674b254ee28f9b76773e5a9c8a",
            "bbdba7e8a4bb4afc85d5d73a63c42457",
            "8f3b7d3192634bb18907f13a4a7fe5a3",
            "d985a20140344708a1d96a21a83c16a4",
            "73bd5bb64a1b47878ef346f13f1d2fdf",
            "0a820f6ed7a549938f89e9d169e9af4b",
            "e105caae75c146e58a6593b11eda72a0",
            "4db29f7982ad4b7583d504594c474778",
            "4bc20b1f20fd417aa642efec3ecda02e",
            "03d96ed4d83c43268f2f89f237d8bd56",
            "bcd70609bcca41f3aac2e219aa9530e1",
            "ec9911a808da4cc5ace1c9e30cce552f",
            "6209c91d5ff94ea6bad7f4b0c2bb7197",
            "6e705ae9b2224a6b9dc5009cf829882c",
            "84cad0129e9f486abda08f9e33422cb2",
            "b8652c56cf7046868b83803ae0c78753",
            "43064f43610e4958829426d5df1b9310",
            "33a37df15ae046b0b96781f8e0720137",
            "e1c472d713ec41d5870754f6cbcbcf35",
            "039ff530318d450f86da46c734aa6cb0",
            "2dce8f453ee14b88a27b2510321f816a",
            "617c30190e854e27a2c88430d34626b3",
            "8d8d07a528bf45e8b22a2157336d7508",
            "c6b33a1ab7c142fabaeae92dd7fd418e",
            "8c82fb33dd9e4d7a9771e043cf1987e2",
            "01a4ebe08bd34f2591ef0083504ff7cb",
            "86f9f34836db4199874572c40ba62aed",
            "0a759dc2ae6145a999be7353ee0c2caf",
            "70400a0cbb8044098322c0114812b36a",
            "fb73073072e043afa78a7fa652554f46",
            "e86e5bb2cdd447c2bf706a987d47c17e",
            "fbcb5348c000470497517f9d8558eb75",
            "246646b7d63a42948e925ebfb5bdaab7",
            "adc1d21871a84183a853dcc3d89f1b31",
            "7d4c0036fa614029aed595fc57c02604",
            "9eae117c01d74c18a8c7f0ebbd86a739",
            "2032e645b158421ea33e6c69ad4aabdb",
            "457f8b9275ba4adc9790da1b8ff47b2f",
            "4df16cb8c04948b29f912c3aba1a1e42",
            "041ebef6fa3f41c8bf268cec3d217179",
            "cb9550cf5d2945a7acc3ca6a91a18a97",
            "107233ace717456ab4248c8e22d6bbeb",
            "e80775e90ee04003a20682aaea2a577b",
            "d2df4e3c3b904ed492e0bf4930d5e805",
            "4c71c61957ba441488a5aeb875f4add8",
            "dd9995e071d24a70bdeb76ce42569522",
            "1a9a5427dc2d49b98e3bd93aaf10b167",
            "fd341bd73ad24d08951d77a0af1b012f",
            "b400452be47146c0b08fe2f3f9529764",
            "3987d1498bf74ff7a21d6979a023fd98",
            "5ef1ef6e65dc445599b78a6feb78c0e8",
            "30e9d23ec7f24be3a3d263669bbde604",
            "3b6af4d9e2ac4a57a5a6062c6e0a0c49",
            "de4661d35bb347f8adbec80b6738fc11"
          ]
        },
        "id": "pluixldg92ga",
        "outputId": "3214257a-3bd3-4117-955e-0406842f50ff"
      },
      "outputs": [],
      "source": [
        "model_classifier = TheSVM()\n",
        "train(model_classifier)\n",
        "#"
      ]
    },
    {
      "cell_type": "markdown",
      "metadata": {
        "id": "1DMbcDsd-z4a"
      },
      "source": [
        "### Валидация модели"
      ]
    },
    {
      "cell_type": "markdown",
      "metadata": {
        "id": "dQH-SQxJCeJ5"
      },
      "source": [
        "#### На моем трафике"
      ]
    },
    {
      "cell_type": "code",
      "execution_count": null,
      "metadata": {
        "colab": {
          "base_uri": "https://localhost:8080/"
        },
        "id": "YmHv6ESK-viy",
        "outputId": "62c2f1e8-818f-47fa-bc77-165c0dee3e47"
      },
      "outputs": [],
      "source": [
        "!wget https://getfile.dokpub.com/yandex/get/https://disk.yandex.ru/d/unZRnFR3X4IbeA\n",
        "!mv unZRnFR3X4IbeA val_common.pcap"
      ]
    },
    {
      "cell_type": "code",
      "execution_count": null,
      "metadata": {
        "colab": {
          "base_uri": "https://localhost:8080/"
        },
        "id": "UfT4LlCB-_eC",
        "outputId": "22501e1e-5ca2-4612-d609-b54e25f5a303"
      },
      "outputs": [],
      "source": [
        "!rm -rf val_common_sessions_folder\n",
        "!mkdir val_common_sessions_folder\n",
        "!PcapSplitter -f val_common.pcap -o val_common_sessions_folder -m connection"
      ]
    },
    {
      "cell_type": "code",
      "execution_count": null,
      "metadata": {
        "id": "x5c37bMt_Rxr"
      },
      "outputs": [],
      "source": [
        "class ValidationDataset(Dataset):\n",
        "  def __init__(self, features):\n",
        "    self.features = features\n",
        "\n",
        "  def __len__(self):\n",
        "    return len(self.features)\n",
        "\n",
        "  def __getitem__(self, idx):\n",
        "    return self.features[idx]"
      ]
    },
    {
      "cell_type": "code",
      "execution_count": null,
      "metadata": {
        "colab": {
          "base_uri": "https://localhost:8080/",
          "height": 66,
          "referenced_widgets": [
            "2ea2fb5f83334ccebb2b76f178c4366e",
            "6ef0cb99669648c7a099cdc78ba31bfb",
            "c654a9aa3567426fa34d12a791541d5d",
            "511c60d9e0d54b09a11e13400abef192",
            "48d388945c96428d963b9f7fbda0f5e8",
            "5db5ecfedd6a40cbb11c691f010e074d",
            "ea8890ed7120455cb68df2436f91b41e",
            "e6e9ee41dad84638bbafe4570e5a2bf3",
            "a321c7f1b9894478828bd5a630f47e1d",
            "7e0be56f0e744e658d31f1c7db1b8165",
            "bda27d75919b4898b81a9392dc8df418"
          ]
        },
        "id": "_-ARzcSh_fTa",
        "outputId": "2e29b3f4-31d4-450d-bad0-e073ecf40264"
      },
      "outputs": [],
      "source": [
        "data_val_common = parse_sessions('val_common_sessions_folder', '192.168.0')"
      ]
    },
    {
      "cell_type": "code",
      "execution_count": null,
      "metadata": {
        "id": "deAzxPllBQu6"
      },
      "outputs": [],
      "source": [
        "features_val_common = normalize(numpy_features_from_data(data_val_common), median, iqr)\n",
        "val_common_dataset = ValidationDataset(features_val_common)"
      ]
    },
    {
      "cell_type": "code",
      "execution_count": null,
      "metadata": {
        "colab": {
          "base_uri": "https://localhost:8080/",
          "height": 66,
          "referenced_widgets": [
            "c907b6f03ba7418db1a92caf8a1258ae",
            "6e90e6aa60eb4e15a64586083fa225db",
            "7fc77d44cf8c4e7481857f3187b28614",
            "49c95606e0d9427690701247d85a8855",
            "d8b6edd8381e4f5fa5e5e9a2ea0c7831",
            "a882093b895440fd9f7b8e7b260ac651",
            "275b936ce2ef4d508541e253df35b185",
            "29078c6107d042a3bf6592de5172d0d6",
            "b4e27c914adb4a07b5f3476918d313ac",
            "45ba94900dc444e3bd5b47c060384276",
            "731a0add6a6c4ea98ac042ba341b6958"
          ]
        },
        "id": "5uEifFmlBhKs",
        "outputId": "6cac465e-90eb-480f-bc00-ca44feaadc97"
      },
      "outputs": [],
      "source": [
        "def percent_of_iot(val_dataset):\n",
        "  model_classifier.eval()\n",
        "  iot_count = 0\n",
        "  with torch.no_grad():\n",
        "    val_loader = DataLoader(val_dataset, batch_size=64, shuffle=False)\n",
        "    for features in tqdm(val_loader):\n",
        "      output = model_classifier(features).argmax(dim=1)\n",
        "      iot_count += torch.count_nonzero(output == 1)\n",
        "  print('percent of iot traffic: %.2f%%' % (iot_count / len(val_dataset) * 100))\n",
        "\n",
        "percent_of_iot(val_common_dataset)"
      ]
    },
    {
      "cell_type": "markdown",
      "metadata": {
        "id": "LeB1hoAiCjYM"
      },
      "source": [
        "#### На unsw acm sosr"
      ]
    },
    {
      "cell_type": "code",
      "execution_count": null,
      "metadata": {
        "colab": {
          "base_uri": "https://localhost:8080/"
        },
        "id": "HMlbE_l8Cn2y",
        "outputId": "cb6616d6-2c6b-4644-995e-76096050d5c1"
      },
      "outputs": [],
      "source": [
        "!wget https://getfile.dokpub.com/yandex/get/https://disk.yandex.ru/d/41qCNt-9M-Nk_g\n",
        "!mv 41qCNt-9M-Nk_g val_iot.pcap"
      ]
    },
    {
      "cell_type": "code",
      "execution_count": null,
      "metadata": {
        "colab": {
          "base_uri": "https://localhost:8080/"
        },
        "id": "JhcMmABVC6UL",
        "outputId": "ca945f2d-ce2d-4c3c-929d-65c920161198"
      },
      "outputs": [],
      "source": [
        "!rm -rf val_iot_sessions_folder\n",
        "!mkdir val_iot_sessions_folder\n",
        "!PcapSplitter -f val_iot.pcap -o val_iot_sessions_folder -m connection"
      ]
    },
    {
      "cell_type": "code",
      "execution_count": null,
      "metadata": {
        "id": "5wPxW0-p0svR"
      },
      "outputs": [],
      "source": [
        "import shutil\n",
        "import os\n",
        "\n",
        "def folder_into_parts(folderpath, n_parts):\n",
        "  onlyfiles = [f for f in listdir(folderpath) if isfile(join(folderpath, f))]\n",
        "  step = len(onlyfiles) // n_parts + (1 if len(onlyfiles) % n_parts != 0 else 0)\n",
        "  part_i = 0\n",
        "  for i in range(0, len(onlyfiles), step):\n",
        "    part_i += 1\n",
        "    newfolderpath = folderpath + '_part' + str(part_i)\n",
        "    if os.path.exists(newfolderpath):\n",
        "      shutil.rmtree(newfolderpath)\n",
        "    os.mkdir(newfolderpath)\n",
        "    for filename in onlyfiles[i:i+step]:\n",
        "      shutil.copy(join(folderpath, filename), join(newfolderpath, filename))"
      ]
    },
    {
      "cell_type": "code",
      "execution_count": null,
      "metadata": {
        "id": "QGFnkSU235rV"
      },
      "outputs": [],
      "source": [
        "folder_into_parts('val_iot_sessions_folder', 13)"
      ]
    },
    {
      "cell_type": "code",
      "execution_count": null,
      "metadata": {
        "colab": {
          "base_uri": "https://localhost:8080/",
          "height": 66,
          "referenced_widgets": [
            "bfa83f16b0b94625989965bc77c358fa",
            "4bc09c818c0747d8abafd37d00337929",
            "338c11229b224a7db62f0187f10f9ad1",
            "cbaf1a97f4294bfeb44e813154fe3a6e",
            "ce5c5af8d2c64fdab6fe87948303b2b0",
            "c84abda5b0974fc0877d487247c934fb",
            "b987721a01a24b49ab69949136787439",
            "e429cfb6f9544668abe2f39f5624fbc5",
            "62bed5758b5f4c789a290972441ff204",
            "de0107eb993d41898651c15bb9db5dfc",
            "5e2a168729494983a330acf285479123"
          ]
        },
        "id": "d4dmKzgoDG0I",
        "outputId": "a46dd72b-ef4b-45e2-84c7-6d7e76ead44b"
      },
      "outputs": [],
      "source": [
        "data_val_iot = parse_sessions('val_iot_sessions_folder_part2', '192.168.1')"
      ]
    },
    {
      "cell_type": "code",
      "execution_count": null,
      "metadata": {
        "id": "HYCKwc8mDQe0"
      },
      "outputs": [],
      "source": [
        "features_val_iot = normalize(numpy_features_from_data(data_val_iot), median, iqr)\n",
        "val_iot_dataset = ValidationDataset(features_val_iot)"
      ]
    },
    {
      "cell_type": "code",
      "execution_count": null,
      "metadata": {
        "colab": {
          "base_uri": "https://localhost:8080/",
          "height": 66,
          "referenced_widgets": [
            "43f391c1c52c44a2a201939075c1ff91",
            "ca5cc0d2488b4a5293604e9575ff3bc9",
            "ab29be4ea0e04ec4825415dcc2401729",
            "11a4990f97e4439d90c2e2228c9964f9",
            "a28e5dcd46544efaa7a6a56783f2f50c",
            "881482b0cc544d158b310049e0875a9b",
            "2810f019f1104d2e80754ab310897071",
            "5f23f01fd1ae4d86a2eb3673841377f9",
            "2ba4da78fe6c4853887533b96cba38fa",
            "1966edc6db1746238e7e360a7bc46167",
            "8f3d02a4f1fc47ff92420b30c0e5ce53"
          ]
        },
        "id": "seh73ctnEDdF",
        "outputId": "0dd05119-7807-4a8e-bf7e-802d62ff05cb"
      },
      "outputs": [],
      "source": [
        "percent_of_iot(val_iot_dataset)"
      ]
    },
    {
      "cell_type": "markdown",
      "metadata": {
        "id": "MGRE8mYxli-U"
      },
      "source": [
        "### Random Forest"
      ]
    },
    {
      "cell_type": "markdown",
      "metadata": {
        "id": "CedmSWr0nEg0"
      },
      "source": [
        "В теории, для него очень плохо проводить one hot encoding, так как сильно повышается кол-во признаков"
      ]
    },
    {
      "cell_type": "code",
      "execution_count": null,
      "metadata": {
        "id": "CeOAL_lCnSxn"
      },
      "outputs": [],
      "source": [
        "def numpy_features_from_data_wo_one_hot(data):\n",
        "  return np.array(\n",
        "    [np.concatenate(([session.sport,\n",
        "                     session.dport],\n",
        "                     [\n",
        "                     session.l4_protocol,\n",
        "                     session.updownlink,\n",
        "                     ],\n",
        "                     [\n",
        "                     session.pkt_n,\n",
        "                     session.sum_pkt_lens,\n",
        "                     session.sum_pld_lens,\n",
        "                     session.avg_pkt_len,\n",
        "                     session.avg_pld_len,\n",
        "                     session.min_pkt_len,\n",
        "                     session.max_pkt_len,\n",
        "                     session.std_dev_pkt_len,\n",
        "                     session.avg_ttl,\n",
        "                     session.duration,\n",
        "                     session.max_delay,\n",
        "                     session.min_delay,\n",
        "                     session.avg_delay,\n",
        "                     session.pkt_rate,\n",
        "                     session.bytes_rate,\n",
        "                     ],\n",
        "                     )) for session in data]\n",
        "    , dtype='float32')\n",
        "\n",
        "ski_features_common = numpy_features_from_data_wo_one_hot(data_common)\n",
        "ski_features_iot = numpy_features_from_data_wo_one_hot(data_iot)"
      ]
    },
    {
      "cell_type": "code",
      "execution_count": null,
      "metadata": {
        "id": "xaBkS-iZnyeU"
      },
      "outputs": [],
      "source": [
        "ski_X_features = np.append(ski_features_common,\n",
        "                           ski_features_iot,\n",
        "                           axis=0)"
      ]
    },
    {
      "cell_type": "code",
      "execution_count": null,
      "metadata": {
        "colab": {
          "base_uri": "https://localhost:8080/"
        },
        "id": "l6mfLgycoAei",
        "outputId": "15400b64-24f3-4254-a802-6a028709b099"
      },
      "outputs": [],
      "source": [
        "print(ski_X_features.shape)\n",
        "print(y.shape)"
      ]
    },
    {
      "cell_type": "code",
      "execution_count": null,
      "metadata": {
        "colab": {
          "base_uri": "https://localhost:8080/",
          "height": 74
        },
        "id": "KzP1JF6hlw9g",
        "outputId": "95b8f575-00d2-4fe2-ad7f-6c97c5891235"
      },
      "outputs": [],
      "source": [
        "from sklearn.ensemble import RandomForestClassifier\n",
        "clf = RandomForestClassifier(random_state=42, max_depth=10, class_weight='balanced')\n",
        "clf.fit(ski_X_features, y)"
      ]
    },
    {
      "cell_type": "code",
      "execution_count": null,
      "metadata": {
        "id": "dgmFmrmRoS6w"
      },
      "outputs": [],
      "source": [
        "ski_features_val_common = numpy_features_from_data_wo_one_hot(data_val_common)"
      ]
    },
    {
      "cell_type": "code",
      "execution_count": null,
      "metadata": {
        "colab": {
          "base_uri": "https://localhost:8080/"
        },
        "id": "nWxPKfzzlsZF",
        "outputId": "b855437c-a4e0-4a32-f80d-fcd461bd628f"
      },
      "outputs": [],
      "source": [
        "from sklearn.metrics import accuracy_score\n",
        "accuracy_score(np.zeros(len(ski_features_val_common)), clf.predict(ski_features_val_common))"
      ]
    },
    {
      "cell_type": "code",
      "execution_count": null,
      "metadata": {
        "id": "t6CbUxs3oiVf"
      },
      "outputs": [],
      "source": [
        "ski_features_val_iot = numpy_features_from_data_wo_one_hot(data_val_iot)"
      ]
    },
    {
      "cell_type": "code",
      "execution_count": null,
      "metadata": {
        "colab": {
          "base_uri": "https://localhost:8080/"
        },
        "id": "8_ST7ylhlOMQ",
        "outputId": "91370c7d-c6b9-4a25-b5dd-0bdf95347393"
      },
      "outputs": [],
      "source": [
        "from sklearn.metrics import accuracy_score\n",
        "accuracy_score(np.ones(len(ski_features_val_iot)), clf.predict(ski_features_val_iot))"
      ]
    },
    {
      "cell_type": "markdown",
      "metadata": {
        "id": "bgJu6BausEOu"
      },
      "source": [
        "Просто интересно посмотреть на важность признаков"
      ]
    },
    {
      "cell_type": "code",
      "execution_count": null,
      "metadata": {
        "id": "lbF6Pyars2A7"
      },
      "outputs": [],
      "source": [
        "feat_labels = [\n",
        "    'sport',\n",
        "    'dport',\n",
        "    'l4_protocol',\n",
        "    'updownlink',\n",
        "    'pkt_n',\n",
        "    'sum_pkt_lens',\n",
        "    'sum_pld_lens',\n",
        "    'avg_pkt_len',\n",
        "    'avg_pld_len',\n",
        "    'min_pkt_len',\n",
        "    'max_pkt_len',\n",
        "    'std_dev_pkt_len',\n",
        "    'avg_ttl',\n",
        "    'duration',\n",
        "    'max_delay',\n",
        "    'min_delay',\n",
        "    'avg_delay',\n",
        "    'pkt_rate',\n",
        "    'bytes_rate',\n",
        "    ]"
      ]
    },
    {
      "cell_type": "code",
      "execution_count": null,
      "metadata": {
        "id": "DzENplzZsmVT"
      },
      "outputs": [],
      "source": [
        "importances = clf.feature_importances_\n",
        "sorted_indices = np.argsort(importances)[::-1]"
      ]
    },
    {
      "cell_type": "code",
      "execution_count": null,
      "metadata": {
        "colab": {
          "base_uri": "https://localhost:8080/"
        },
        "id": "8dJCm4dtsDnl",
        "outputId": "ce45a520-a620-4f1d-d483-3d54623c4560"
      },
      "outputs": [
        {
          "name": "stdout",
          "output_type": "stream",
          "text": [
            " 1) avg_ttl                        0.298940\n",
            " 2) min_pkt_len                    0.123200\n",
            " 3) max_delay                      0.120270\n",
            " 4) duration                       0.088843\n",
            " 5) avg_delay                      0.086342\n",
            " 6) pkt_rate                       0.054872\n",
            " 7) std_dev_pkt_len                0.035000\n",
            " 8) bytes_rate                     0.030206\n",
            " 9) sport                          0.026708\n",
            "10) avg_pld_len                    0.026572\n",
            "11) max_pkt_len                    0.023262\n",
            "12) min_delay                      0.022541\n",
            "13) avg_pkt_len                    0.021281\n",
            "14) dport                          0.019432\n",
            "15) sum_pld_lens                   0.011583\n",
            "16) sum_pkt_lens                   0.008140\n",
            "17) l4_protocol                    0.001319\n",
            "18) pkt_n                          0.001101\n",
            "19) updownlink                     0.000388\n"
          ]
        }
      ],
      "source": [
        "for feature_i in range(ski_features_val_iot.shape[1]):\n",
        "    print(\"%2d) %-*s %f\" % (feature_i + 1, 30,\n",
        "                            feat_labels[sorted_indices[feature_i]],\n",
        "                            importances[sorted_indices[feature_i]]))"
      ]
    }
  ],
  "metadata": {
    "accelerator": "TPU",
    "colab": {
      "collapsed_sections": [
        "zM4oUFLO_sue"
      ],
      "provenance": []
    },
    "kernelspec": {
      "display_name": "Python 3",
      "name": "python3"
    },
    "language_info": {
      "name": "python"
    },
    "widgets": {
      "application/vnd.jupyter.widget-state+json": {
        "01a4ebe08bd34f2591ef0083504ff7cb": {
          "model_module": "@jupyter-widgets/base",
          "model_module_version": "1.2.0",
          "model_name": "LayoutModel",
          "state": {
            "_model_module": "@jupyter-widgets/base",
            "_model_module_version": "1.2.0",
            "_model_name": "LayoutModel",
            "_view_count": null,
            "_view_module": "@jupyter-widgets/base",
            "_view_module_version": "1.2.0",
            "_view_name": "LayoutView",
            "align_content": null,
            "align_items": null,
            "align_self": null,
            "border": null,
            "bottom": null,
            "display": null,
            "flex": null,
            "flex_flow": null,
            "grid_area": null,
            "grid_auto_columns": null,
            "grid_auto_flow": null,
            "grid_auto_rows": null,
            "grid_column": null,
            "grid_gap": null,
            "grid_row": null,
            "grid_template_areas": null,
            "grid_template_columns": null,
            "grid_template_rows": null,
            "height": null,
            "justify_content": null,
            "justify_items": null,
            "left": null,
            "margin": null,
            "max_height": null,
            "max_width": null,
            "min_height": null,
            "min_width": null,
            "object_fit": null,
            "object_position": null,
            "order": null,
            "overflow": null,
            "overflow_x": null,
            "overflow_y": null,
            "padding": null,
            "right": null,
            "top": null,
            "visibility": null,
            "width": null
          }
        },
        "039ff530318d450f86da46c734aa6cb0": {
          "model_module": "@jupyter-widgets/base",
          "model_module_version": "1.2.0",
          "model_name": "LayoutModel",
          "state": {
            "_model_module": "@jupyter-widgets/base",
            "_model_module_version": "1.2.0",
            "_model_name": "LayoutModel",
            "_view_count": null,
            "_view_module": "@jupyter-widgets/base",
            "_view_module_version": "1.2.0",
            "_view_name": "LayoutView",
            "align_content": null,
            "align_items": null,
            "align_self": null,
            "border": null,
            "bottom": null,
            "display": null,
            "flex": null,
            "flex_flow": null,
            "grid_area": null,
            "grid_auto_columns": null,
            "grid_auto_flow": null,
            "grid_auto_rows": null,
            "grid_column": null,
            "grid_gap": null,
            "grid_row": null,
            "grid_template_areas": null,
            "grid_template_columns": null,
            "grid_template_rows": null,
            "height": null,
            "justify_content": null,
            "justify_items": null,
            "left": null,
            "margin": null,
            "max_height": null,
            "max_width": null,
            "min_height": null,
            "min_width": null,
            "object_fit": null,
            "object_position": null,
            "order": null,
            "overflow": null,
            "overflow_x": null,
            "overflow_y": null,
            "padding": null,
            "right": null,
            "top": null,
            "visibility": null,
            "width": null
          }
        },
        "03d96ed4d83c43268f2f89f237d8bd56": {
          "model_module": "@jupyter-widgets/controls",
          "model_module_version": "1.5.0",
          "model_name": "DescriptionStyleModel",
          "state": {
            "_model_module": "@jupyter-widgets/controls",
            "_model_module_version": "1.5.0",
            "_model_name": "DescriptionStyleModel",
            "_view_count": null,
            "_view_module": "@jupyter-widgets/base",
            "_view_module_version": "1.2.0",
            "_view_name": "StyleView",
            "description_width": ""
          }
        },
        "041ebef6fa3f41c8bf268cec3d217179": {
          "model_module": "@jupyter-widgets/base",
          "model_module_version": "1.2.0",
          "model_name": "LayoutModel",
          "state": {
            "_model_module": "@jupyter-widgets/base",
            "_model_module_version": "1.2.0",
            "_model_name": "LayoutModel",
            "_view_count": null,
            "_view_module": "@jupyter-widgets/base",
            "_view_module_version": "1.2.0",
            "_view_name": "LayoutView",
            "align_content": null,
            "align_items": null,
            "align_self": null,
            "border": null,
            "bottom": null,
            "display": null,
            "flex": null,
            "flex_flow": null,
            "grid_area": null,
            "grid_auto_columns": null,
            "grid_auto_flow": null,
            "grid_auto_rows": null,
            "grid_column": null,
            "grid_gap": null,
            "grid_row": null,
            "grid_template_areas": null,
            "grid_template_columns": null,
            "grid_template_rows": null,
            "height": null,
            "justify_content": null,
            "justify_items": null,
            "left": null,
            "margin": null,
            "max_height": null,
            "max_width": null,
            "min_height": null,
            "min_width": null,
            "object_fit": null,
            "object_position": null,
            "order": null,
            "overflow": null,
            "overflow_x": null,
            "overflow_y": null,
            "padding": null,
            "right": null,
            "top": null,
            "visibility": null,
            "width": null
          }
        },
        "09bd30df18f54d04a3002adc5520e86c": {
          "model_module": "@jupyter-widgets/controls",
          "model_module_version": "1.5.0",
          "model_name": "DescriptionStyleModel",
          "state": {
            "_model_module": "@jupyter-widgets/controls",
            "_model_module_version": "1.5.0",
            "_model_name": "DescriptionStyleModel",
            "_view_count": null,
            "_view_module": "@jupyter-widgets/base",
            "_view_module_version": "1.2.0",
            "_view_name": "StyleView",
            "description_width": ""
          }
        },
        "0a759dc2ae6145a999be7353ee0c2caf": {
          "model_module": "@jupyter-widgets/controls",
          "model_module_version": "1.5.0",
          "model_name": "DescriptionStyleModel",
          "state": {
            "_model_module": "@jupyter-widgets/controls",
            "_model_module_version": "1.5.0",
            "_model_name": "DescriptionStyleModel",
            "_view_count": null,
            "_view_module": "@jupyter-widgets/base",
            "_view_module_version": "1.2.0",
            "_view_name": "StyleView",
            "description_width": ""
          }
        },
        "0a820f6ed7a549938f89e9d169e9af4b": {
          "model_module": "@jupyter-widgets/controls",
          "model_module_version": "1.5.0",
          "model_name": "DescriptionStyleModel",
          "state": {
            "_model_module": "@jupyter-widgets/controls",
            "_model_module_version": "1.5.0",
            "_model_name": "DescriptionStyleModel",
            "_view_count": null,
            "_view_module": "@jupyter-widgets/base",
            "_view_module_version": "1.2.0",
            "_view_name": "StyleView",
            "description_width": ""
          }
        },
        "107233ace717456ab4248c8e22d6bbeb": {
          "model_module": "@jupyter-widgets/base",
          "model_module_version": "1.2.0",
          "model_name": "LayoutModel",
          "state": {
            "_model_module": "@jupyter-widgets/base",
            "_model_module_version": "1.2.0",
            "_model_name": "LayoutModel",
            "_view_count": null,
            "_view_module": "@jupyter-widgets/base",
            "_view_module_version": "1.2.0",
            "_view_name": "LayoutView",
            "align_content": null,
            "align_items": null,
            "align_self": null,
            "border": null,
            "bottom": null,
            "display": null,
            "flex": null,
            "flex_flow": null,
            "grid_area": null,
            "grid_auto_columns": null,
            "grid_auto_flow": null,
            "grid_auto_rows": null,
            "grid_column": null,
            "grid_gap": null,
            "grid_row": null,
            "grid_template_areas": null,
            "grid_template_columns": null,
            "grid_template_rows": null,
            "height": null,
            "justify_content": null,
            "justify_items": null,
            "left": null,
            "margin": null,
            "max_height": null,
            "max_width": null,
            "min_height": null,
            "min_width": null,
            "object_fit": null,
            "object_position": null,
            "order": null,
            "overflow": null,
            "overflow_x": null,
            "overflow_y": null,
            "padding": null,
            "right": null,
            "top": null,
            "visibility": null,
            "width": null
          }
        },
        "11a4990f97e4439d90c2e2228c9964f9": {
          "model_module": "@jupyter-widgets/controls",
          "model_module_version": "1.5.0",
          "model_name": "HTMLModel",
          "state": {
            "_dom_classes": [],
            "_model_module": "@jupyter-widgets/controls",
            "_model_module_version": "1.5.0",
            "_model_name": "HTMLModel",
            "_view_count": null,
            "_view_module": "@jupyter-widgets/controls",
            "_view_module_version": "1.5.0",
            "_view_name": "HTMLView",
            "description": "",
            "description_tooltip": null,
            "layout": "IPY_MODEL_1966edc6db1746238e7e360a7bc46167",
            "placeholder": "​",
            "style": "IPY_MODEL_8f3d02a4f1fc47ff92420b30c0e5ce53",
            "value": " 76/76 [00:01&lt;00:00, 61.41it/s]"
          }
        },
        "1966edc6db1746238e7e360a7bc46167": {
          "model_module": "@jupyter-widgets/base",
          "model_module_version": "1.2.0",
          "model_name": "LayoutModel",
          "state": {
            "_model_module": "@jupyter-widgets/base",
            "_model_module_version": "1.2.0",
            "_model_name": "LayoutModel",
            "_view_count": null,
            "_view_module": "@jupyter-widgets/base",
            "_view_module_version": "1.2.0",
            "_view_name": "LayoutView",
            "align_content": null,
            "align_items": null,
            "align_self": null,
            "border": null,
            "bottom": null,
            "display": null,
            "flex": null,
            "flex_flow": null,
            "grid_area": null,
            "grid_auto_columns": null,
            "grid_auto_flow": null,
            "grid_auto_rows": null,
            "grid_column": null,
            "grid_gap": null,
            "grid_row": null,
            "grid_template_areas": null,
            "grid_template_columns": null,
            "grid_template_rows": null,
            "height": null,
            "justify_content": null,
            "justify_items": null,
            "left": null,
            "margin": null,
            "max_height": null,
            "max_width": null,
            "min_height": null,
            "min_width": null,
            "object_fit": null,
            "object_position": null,
            "order": null,
            "overflow": null,
            "overflow_x": null,
            "overflow_y": null,
            "padding": null,
            "right": null,
            "top": null,
            "visibility": null,
            "width": null
          }
        },
        "1a9a5427dc2d49b98e3bd93aaf10b167": {
          "model_module": "@jupyter-widgets/controls",
          "model_module_version": "1.5.0",
          "model_name": "HTMLModel",
          "state": {
            "_dom_classes": [],
            "_model_module": "@jupyter-widgets/controls",
            "_model_module_version": "1.5.0",
            "_model_name": "HTMLModel",
            "_view_count": null,
            "_view_module": "@jupyter-widgets/controls",
            "_view_module_version": "1.5.0",
            "_view_name": "HTMLView",
            "description": "",
            "description_tooltip": null,
            "layout": "IPY_MODEL_3b6af4d9e2ac4a57a5a6062c6e0a0c49",
            "placeholder": "​",
            "style": "IPY_MODEL_de4661d35bb347f8adbec80b6738fc11",
            "value": " 127/127 [00:05&lt;00:00, 17.63it/s]"
          }
        },
        "1e246a7f15dc46a8b751aca21439f898": {
          "model_module": "@jupyter-widgets/base",
          "model_module_version": "1.2.0",
          "model_name": "LayoutModel",
          "state": {
            "_model_module": "@jupyter-widgets/base",
            "_model_module_version": "1.2.0",
            "_model_name": "LayoutModel",
            "_view_count": null,
            "_view_module": "@jupyter-widgets/base",
            "_view_module_version": "1.2.0",
            "_view_name": "LayoutView",
            "align_content": null,
            "align_items": null,
            "align_self": null,
            "border": null,
            "bottom": null,
            "display": null,
            "flex": null,
            "flex_flow": null,
            "grid_area": null,
            "grid_auto_columns": null,
            "grid_auto_flow": null,
            "grid_auto_rows": null,
            "grid_column": null,
            "grid_gap": null,
            "grid_row": null,
            "grid_template_areas": null,
            "grid_template_columns": null,
            "grid_template_rows": null,
            "height": null,
            "justify_content": null,
            "justify_items": null,
            "left": null,
            "margin": null,
            "max_height": null,
            "max_width": null,
            "min_height": null,
            "min_width": null,
            "object_fit": null,
            "object_position": null,
            "order": null,
            "overflow": null,
            "overflow_x": null,
            "overflow_y": null,
            "padding": null,
            "right": null,
            "top": null,
            "visibility": null,
            "width": null
          }
        },
        "2032e645b158421ea33e6c69ad4aabdb": {
          "model_module": "@jupyter-widgets/base",
          "model_module_version": "1.2.0",
          "model_name": "LayoutModel",
          "state": {
            "_model_module": "@jupyter-widgets/base",
            "_model_module_version": "1.2.0",
            "_model_name": "LayoutModel",
            "_view_count": null,
            "_view_module": "@jupyter-widgets/base",
            "_view_module_version": "1.2.0",
            "_view_name": "LayoutView",
            "align_content": null,
            "align_items": null,
            "align_self": null,
            "border": null,
            "bottom": null,
            "display": null,
            "flex": null,
            "flex_flow": null,
            "grid_area": null,
            "grid_auto_columns": null,
            "grid_auto_flow": null,
            "grid_auto_rows": null,
            "grid_column": null,
            "grid_gap": null,
            "grid_row": null,
            "grid_template_areas": null,
            "grid_template_columns": null,
            "grid_template_rows": null,
            "height": null,
            "justify_content": null,
            "justify_items": null,
            "left": null,
            "margin": null,
            "max_height": null,
            "max_width": null,
            "min_height": null,
            "min_width": null,
            "object_fit": null,
            "object_position": null,
            "order": null,
            "overflow": null,
            "overflow_x": null,
            "overflow_y": null,
            "padding": null,
            "right": null,
            "top": null,
            "visibility": null,
            "width": null
          }
        },
        "23ae4e6e7bc6463385eaeb2773269b52": {
          "model_module": "@jupyter-widgets/base",
          "model_module_version": "1.2.0",
          "model_name": "LayoutModel",
          "state": {
            "_model_module": "@jupyter-widgets/base",
            "_model_module_version": "1.2.0",
            "_model_name": "LayoutModel",
            "_view_count": null,
            "_view_module": "@jupyter-widgets/base",
            "_view_module_version": "1.2.0",
            "_view_name": "LayoutView",
            "align_content": null,
            "align_items": null,
            "align_self": null,
            "border": null,
            "bottom": null,
            "display": null,
            "flex": null,
            "flex_flow": null,
            "grid_area": null,
            "grid_auto_columns": null,
            "grid_auto_flow": null,
            "grid_auto_rows": null,
            "grid_column": null,
            "grid_gap": null,
            "grid_row": null,
            "grid_template_areas": null,
            "grid_template_columns": null,
            "grid_template_rows": null,
            "height": null,
            "justify_content": null,
            "justify_items": null,
            "left": null,
            "margin": null,
            "max_height": null,
            "max_width": null,
            "min_height": null,
            "min_width": null,
            "object_fit": null,
            "object_position": null,
            "order": null,
            "overflow": null,
            "overflow_x": null,
            "overflow_y": null,
            "padding": null,
            "right": null,
            "top": null,
            "visibility": null,
            "width": null
          }
        },
        "246646b7d63a42948e925ebfb5bdaab7": {
          "model_module": "@jupyter-widgets/controls",
          "model_module_version": "1.5.0",
          "model_name": "HBoxModel",
          "state": {
            "_dom_classes": [],
            "_model_module": "@jupyter-widgets/controls",
            "_model_module_version": "1.5.0",
            "_model_name": "HBoxModel",
            "_view_count": null,
            "_view_module": "@jupyter-widgets/controls",
            "_view_module_version": "1.5.0",
            "_view_name": "HBoxView",
            "box_style": "",
            "children": [
              "IPY_MODEL_adc1d21871a84183a853dcc3d89f1b31",
              "IPY_MODEL_7d4c0036fa614029aed595fc57c02604",
              "IPY_MODEL_9eae117c01d74c18a8c7f0ebbd86a739"
            ],
            "layout": "IPY_MODEL_2032e645b158421ea33e6c69ad4aabdb"
          }
        },
        "25600dc39b1b48d88c91f44d738621d9": {
          "model_module": "@jupyter-widgets/controls",
          "model_module_version": "1.5.0",
          "model_name": "ProgressStyleModel",
          "state": {
            "_model_module": "@jupyter-widgets/controls",
            "_model_module_version": "1.5.0",
            "_model_name": "ProgressStyleModel",
            "_view_count": null,
            "_view_module": "@jupyter-widgets/base",
            "_view_module_version": "1.2.0",
            "_view_name": "StyleView",
            "bar_color": null,
            "description_width": ""
          }
        },
        "275b936ce2ef4d508541e253df35b185": {
          "model_module": "@jupyter-widgets/controls",
          "model_module_version": "1.5.0",
          "model_name": "DescriptionStyleModel",
          "state": {
            "_model_module": "@jupyter-widgets/controls",
            "_model_module_version": "1.5.0",
            "_model_name": "DescriptionStyleModel",
            "_view_count": null,
            "_view_module": "@jupyter-widgets/base",
            "_view_module_version": "1.2.0",
            "_view_name": "StyleView",
            "description_width": ""
          }
        },
        "2810f019f1104d2e80754ab310897071": {
          "model_module": "@jupyter-widgets/controls",
          "model_module_version": "1.5.0",
          "model_name": "DescriptionStyleModel",
          "state": {
            "_model_module": "@jupyter-widgets/controls",
            "_model_module_version": "1.5.0",
            "_model_name": "DescriptionStyleModel",
            "_view_count": null,
            "_view_module": "@jupyter-widgets/base",
            "_view_module_version": "1.2.0",
            "_view_name": "StyleView",
            "description_width": ""
          }
        },
        "29078c6107d042a3bf6592de5172d0d6": {
          "model_module": "@jupyter-widgets/base",
          "model_module_version": "1.2.0",
          "model_name": "LayoutModel",
          "state": {
            "_model_module": "@jupyter-widgets/base",
            "_model_module_version": "1.2.0",
            "_model_name": "LayoutModel",
            "_view_count": null,
            "_view_module": "@jupyter-widgets/base",
            "_view_module_version": "1.2.0",
            "_view_name": "LayoutView",
            "align_content": null,
            "align_items": null,
            "align_self": null,
            "border": null,
            "bottom": null,
            "display": null,
            "flex": null,
            "flex_flow": null,
            "grid_area": null,
            "grid_auto_columns": null,
            "grid_auto_flow": null,
            "grid_auto_rows": null,
            "grid_column": null,
            "grid_gap": null,
            "grid_row": null,
            "grid_template_areas": null,
            "grid_template_columns": null,
            "grid_template_rows": null,
            "height": null,
            "justify_content": null,
            "justify_items": null,
            "left": null,
            "margin": null,
            "max_height": null,
            "max_width": null,
            "min_height": null,
            "min_width": null,
            "object_fit": null,
            "object_position": null,
            "order": null,
            "overflow": null,
            "overflow_x": null,
            "overflow_y": null,
            "padding": null,
            "right": null,
            "top": null,
            "visibility": null,
            "width": null
          }
        },
        "2aa2018154404a86a1f0391544fe345d": {
          "model_module": "@jupyter-widgets/base",
          "model_module_version": "1.2.0",
          "model_name": "LayoutModel",
          "state": {
            "_model_module": "@jupyter-widgets/base",
            "_model_module_version": "1.2.0",
            "_model_name": "LayoutModel",
            "_view_count": null,
            "_view_module": "@jupyter-widgets/base",
            "_view_module_version": "1.2.0",
            "_view_name": "LayoutView",
            "align_content": null,
            "align_items": null,
            "align_self": null,
            "border": null,
            "bottom": null,
            "display": null,
            "flex": null,
            "flex_flow": null,
            "grid_area": null,
            "grid_auto_columns": null,
            "grid_auto_flow": null,
            "grid_auto_rows": null,
            "grid_column": null,
            "grid_gap": null,
            "grid_row": null,
            "grid_template_areas": null,
            "grid_template_columns": null,
            "grid_template_rows": null,
            "height": null,
            "justify_content": null,
            "justify_items": null,
            "left": null,
            "margin": null,
            "max_height": null,
            "max_width": null,
            "min_height": null,
            "min_width": null,
            "object_fit": null,
            "object_position": null,
            "order": null,
            "overflow": null,
            "overflow_x": null,
            "overflow_y": null,
            "padding": null,
            "right": null,
            "top": null,
            "visibility": null,
            "width": null
          }
        },
        "2ba4da78fe6c4853887533b96cba38fa": {
          "model_module": "@jupyter-widgets/controls",
          "model_module_version": "1.5.0",
          "model_name": "ProgressStyleModel",
          "state": {
            "_model_module": "@jupyter-widgets/controls",
            "_model_module_version": "1.5.0",
            "_model_name": "ProgressStyleModel",
            "_view_count": null,
            "_view_module": "@jupyter-widgets/base",
            "_view_module_version": "1.2.0",
            "_view_name": "StyleView",
            "bar_color": null,
            "description_width": ""
          }
        },
        "2dce8f453ee14b88a27b2510321f816a": {
          "model_module": "@jupyter-widgets/controls",
          "model_module_version": "1.5.0",
          "model_name": "DescriptionStyleModel",
          "state": {
            "_model_module": "@jupyter-widgets/controls",
            "_model_module_version": "1.5.0",
            "_model_name": "DescriptionStyleModel",
            "_view_count": null,
            "_view_module": "@jupyter-widgets/base",
            "_view_module_version": "1.2.0",
            "_view_name": "StyleView",
            "description_width": ""
          }
        },
        "2ea2fb5f83334ccebb2b76f178c4366e": {
          "model_module": "@jupyter-widgets/controls",
          "model_module_version": "1.5.0",
          "model_name": "HBoxModel",
          "state": {
            "_dom_classes": [],
            "_model_module": "@jupyter-widgets/controls",
            "_model_module_version": "1.5.0",
            "_model_name": "HBoxModel",
            "_view_count": null,
            "_view_module": "@jupyter-widgets/controls",
            "_view_module_version": "1.5.0",
            "_view_name": "HBoxView",
            "box_style": "",
            "children": [
              "IPY_MODEL_6ef0cb99669648c7a099cdc78ba31bfb",
              "IPY_MODEL_c654a9aa3567426fa34d12a791541d5d",
              "IPY_MODEL_511c60d9e0d54b09a11e13400abef192"
            ],
            "layout": "IPY_MODEL_48d388945c96428d963b9f7fbda0f5e8"
          }
        },
        "30e9d23ec7f24be3a3d263669bbde604": {
          "model_module": "@jupyter-widgets/controls",
          "model_module_version": "1.5.0",
          "model_name": "ProgressStyleModel",
          "state": {
            "_model_module": "@jupyter-widgets/controls",
            "_model_module_version": "1.5.0",
            "_model_name": "ProgressStyleModel",
            "_view_count": null,
            "_view_module": "@jupyter-widgets/base",
            "_view_module_version": "1.2.0",
            "_view_name": "StyleView",
            "bar_color": null,
            "description_width": ""
          }
        },
        "338c11229b224a7db62f0187f10f9ad1": {
          "model_module": "@jupyter-widgets/controls",
          "model_module_version": "1.5.0",
          "model_name": "FloatProgressModel",
          "state": {
            "_dom_classes": [],
            "_model_module": "@jupyter-widgets/controls",
            "_model_module_version": "1.5.0",
            "_model_name": "FloatProgressModel",
            "_view_count": null,
            "_view_module": "@jupyter-widgets/controls",
            "_view_module_version": "1.5.0",
            "_view_name": "ProgressView",
            "bar_style": "success",
            "description": "",
            "description_tooltip": null,
            "layout": "IPY_MODEL_e429cfb6f9544668abe2f39f5624fbc5",
            "max": 5031,
            "min": 0,
            "orientation": "horizontal",
            "style": "IPY_MODEL_62bed5758b5f4c789a290972441ff204",
            "value": 5031
          }
        },
        "33a37df15ae046b0b96781f8e0720137": {
          "model_module": "@jupyter-widgets/base",
          "model_module_version": "1.2.0",
          "model_name": "LayoutModel",
          "state": {
            "_model_module": "@jupyter-widgets/base",
            "_model_module_version": "1.2.0",
            "_model_name": "LayoutModel",
            "_view_count": null,
            "_view_module": "@jupyter-widgets/base",
            "_view_module_version": "1.2.0",
            "_view_name": "LayoutView",
            "align_content": null,
            "align_items": null,
            "align_self": null,
            "border": null,
            "bottom": null,
            "display": null,
            "flex": null,
            "flex_flow": null,
            "grid_area": null,
            "grid_auto_columns": null,
            "grid_auto_flow": null,
            "grid_auto_rows": null,
            "grid_column": null,
            "grid_gap": null,
            "grid_row": null,
            "grid_template_areas": null,
            "grid_template_columns": null,
            "grid_template_rows": null,
            "height": null,
            "justify_content": null,
            "justify_items": null,
            "left": null,
            "margin": null,
            "max_height": null,
            "max_width": null,
            "min_height": null,
            "min_width": null,
            "object_fit": null,
            "object_position": null,
            "order": null,
            "overflow": null,
            "overflow_x": null,
            "overflow_y": null,
            "padding": null,
            "right": null,
            "top": null,
            "visibility": null,
            "width": null
          }
        },
        "37105ecd03e847eab5bccc4cedeef9ce": {
          "model_module": "@jupyter-widgets/base",
          "model_module_version": "1.2.0",
          "model_name": "LayoutModel",
          "state": {
            "_model_module": "@jupyter-widgets/base",
            "_model_module_version": "1.2.0",
            "_model_name": "LayoutModel",
            "_view_count": null,
            "_view_module": "@jupyter-widgets/base",
            "_view_module_version": "1.2.0",
            "_view_name": "LayoutView",
            "align_content": null,
            "align_items": null,
            "align_self": null,
            "border": null,
            "bottom": null,
            "display": null,
            "flex": null,
            "flex_flow": null,
            "grid_area": null,
            "grid_auto_columns": null,
            "grid_auto_flow": null,
            "grid_auto_rows": null,
            "grid_column": null,
            "grid_gap": null,
            "grid_row": null,
            "grid_template_areas": null,
            "grid_template_columns": null,
            "grid_template_rows": null,
            "height": null,
            "justify_content": null,
            "justify_items": null,
            "left": null,
            "margin": null,
            "max_height": null,
            "max_width": null,
            "min_height": null,
            "min_width": null,
            "object_fit": null,
            "object_position": null,
            "order": null,
            "overflow": null,
            "overflow_x": null,
            "overflow_y": null,
            "padding": null,
            "right": null,
            "top": null,
            "visibility": null,
            "width": null
          }
        },
        "37586dbddd5f4633b725bef1711906df": {
          "model_module": "@jupyter-widgets/controls",
          "model_module_version": "1.5.0",
          "model_name": "HBoxModel",
          "state": {
            "_dom_classes": [],
            "_model_module": "@jupyter-widgets/controls",
            "_model_module_version": "1.5.0",
            "_model_name": "HBoxModel",
            "_view_count": null,
            "_view_module": "@jupyter-widgets/controls",
            "_view_module_version": "1.5.0",
            "_view_name": "HBoxView",
            "box_style": "",
            "children": [
              "IPY_MODEL_a860094fe240461389c4b85042e3086f",
              "IPY_MODEL_71d27925cd6d4d3f9d44d1e452ff982b",
              "IPY_MODEL_981230c4924746a888d22bf66d7b090d"
            ],
            "layout": "IPY_MODEL_429567aaae704aa99e7a19711f5d0923"
          }
        },
        "3987d1498bf74ff7a21d6979a023fd98": {
          "model_module": "@jupyter-widgets/controls",
          "model_module_version": "1.5.0",
          "model_name": "DescriptionStyleModel",
          "state": {
            "_model_module": "@jupyter-widgets/controls",
            "_model_module_version": "1.5.0",
            "_model_name": "DescriptionStyleModel",
            "_view_count": null,
            "_view_module": "@jupyter-widgets/base",
            "_view_module_version": "1.2.0",
            "_view_name": "StyleView",
            "description_width": ""
          }
        },
        "3b6af4d9e2ac4a57a5a6062c6e0a0c49": {
          "model_module": "@jupyter-widgets/base",
          "model_module_version": "1.2.0",
          "model_name": "LayoutModel",
          "state": {
            "_model_module": "@jupyter-widgets/base",
            "_model_module_version": "1.2.0",
            "_model_name": "LayoutModel",
            "_view_count": null,
            "_view_module": "@jupyter-widgets/base",
            "_view_module_version": "1.2.0",
            "_view_name": "LayoutView",
            "align_content": null,
            "align_items": null,
            "align_self": null,
            "border": null,
            "bottom": null,
            "display": null,
            "flex": null,
            "flex_flow": null,
            "grid_area": null,
            "grid_auto_columns": null,
            "grid_auto_flow": null,
            "grid_auto_rows": null,
            "grid_column": null,
            "grid_gap": null,
            "grid_row": null,
            "grid_template_areas": null,
            "grid_template_columns": null,
            "grid_template_rows": null,
            "height": null,
            "justify_content": null,
            "justify_items": null,
            "left": null,
            "margin": null,
            "max_height": null,
            "max_width": null,
            "min_height": null,
            "min_width": null,
            "object_fit": null,
            "object_position": null,
            "order": null,
            "overflow": null,
            "overflow_x": null,
            "overflow_y": null,
            "padding": null,
            "right": null,
            "top": null,
            "visibility": null,
            "width": null
          }
        },
        "3f7a1180ab874d51afc32e407dc51da0": {
          "model_module": "@jupyter-widgets/controls",
          "model_module_version": "1.5.0",
          "model_name": "HBoxModel",
          "state": {
            "_dom_classes": [],
            "_model_module": "@jupyter-widgets/controls",
            "_model_module_version": "1.5.0",
            "_model_name": "HBoxModel",
            "_view_count": null,
            "_view_module": "@jupyter-widgets/controls",
            "_view_module_version": "1.5.0",
            "_view_name": "HBoxView",
            "box_style": "",
            "children": [
              "IPY_MODEL_d6a0cda573e34cdebd1f6fc1ba88e85a",
              "IPY_MODEL_ea7b812ef9b346818a7e91898e6966bd",
              "IPY_MODEL_7835b94a4cca46aa991cbfea41290310"
            ],
            "layout": "IPY_MODEL_23ae4e6e7bc6463385eaeb2773269b52"
          }
        },
        "429567aaae704aa99e7a19711f5d0923": {
          "model_module": "@jupyter-widgets/base",
          "model_module_version": "1.2.0",
          "model_name": "LayoutModel",
          "state": {
            "_model_module": "@jupyter-widgets/base",
            "_model_module_version": "1.2.0",
            "_model_name": "LayoutModel",
            "_view_count": null,
            "_view_module": "@jupyter-widgets/base",
            "_view_module_version": "1.2.0",
            "_view_name": "LayoutView",
            "align_content": null,
            "align_items": null,
            "align_self": null,
            "border": null,
            "bottom": null,
            "display": null,
            "flex": null,
            "flex_flow": null,
            "grid_area": null,
            "grid_auto_columns": null,
            "grid_auto_flow": null,
            "grid_auto_rows": null,
            "grid_column": null,
            "grid_gap": null,
            "grid_row": null,
            "grid_template_areas": null,
            "grid_template_columns": null,
            "grid_template_rows": null,
            "height": null,
            "justify_content": null,
            "justify_items": null,
            "left": null,
            "margin": null,
            "max_height": null,
            "max_width": null,
            "min_height": null,
            "min_width": null,
            "object_fit": null,
            "object_position": null,
            "order": null,
            "overflow": null,
            "overflow_x": null,
            "overflow_y": null,
            "padding": null,
            "right": null,
            "top": null,
            "visibility": null,
            "width": null
          }
        },
        "43064f43610e4958829426d5df1b9310": {
          "model_module": "@jupyter-widgets/controls",
          "model_module_version": "1.5.0",
          "model_name": "DescriptionStyleModel",
          "state": {
            "_model_module": "@jupyter-widgets/controls",
            "_model_module_version": "1.5.0",
            "_model_name": "DescriptionStyleModel",
            "_view_count": null,
            "_view_module": "@jupyter-widgets/base",
            "_view_module_version": "1.2.0",
            "_view_name": "StyleView",
            "description_width": ""
          }
        },
        "43f391c1c52c44a2a201939075c1ff91": {
          "model_module": "@jupyter-widgets/controls",
          "model_module_version": "1.5.0",
          "model_name": "HBoxModel",
          "state": {
            "_dom_classes": [],
            "_model_module": "@jupyter-widgets/controls",
            "_model_module_version": "1.5.0",
            "_model_name": "HBoxModel",
            "_view_count": null,
            "_view_module": "@jupyter-widgets/controls",
            "_view_module_version": "1.5.0",
            "_view_name": "HBoxView",
            "box_style": "",
            "children": [
              "IPY_MODEL_ca5cc0d2488b4a5293604e9575ff3bc9",
              "IPY_MODEL_ab29be4ea0e04ec4825415dcc2401729",
              "IPY_MODEL_11a4990f97e4439d90c2e2228c9964f9"
            ],
            "layout": "IPY_MODEL_a28e5dcd46544efaa7a6a56783f2f50c"
          }
        },
        "457f8b9275ba4adc9790da1b8ff47b2f": {
          "model_module": "@jupyter-widgets/base",
          "model_module_version": "1.2.0",
          "model_name": "LayoutModel",
          "state": {
            "_model_module": "@jupyter-widgets/base",
            "_model_module_version": "1.2.0",
            "_model_name": "LayoutModel",
            "_view_count": null,
            "_view_module": "@jupyter-widgets/base",
            "_view_module_version": "1.2.0",
            "_view_name": "LayoutView",
            "align_content": null,
            "align_items": null,
            "align_self": null,
            "border": null,
            "bottom": null,
            "display": null,
            "flex": null,
            "flex_flow": null,
            "grid_area": null,
            "grid_auto_columns": null,
            "grid_auto_flow": null,
            "grid_auto_rows": null,
            "grid_column": null,
            "grid_gap": null,
            "grid_row": null,
            "grid_template_areas": null,
            "grid_template_columns": null,
            "grid_template_rows": null,
            "height": null,
            "justify_content": null,
            "justify_items": null,
            "left": null,
            "margin": null,
            "max_height": null,
            "max_width": null,
            "min_height": null,
            "min_width": null,
            "object_fit": null,
            "object_position": null,
            "order": null,
            "overflow": null,
            "overflow_x": null,
            "overflow_y": null,
            "padding": null,
            "right": null,
            "top": null,
            "visibility": null,
            "width": null
          }
        },
        "45ba94900dc444e3bd5b47c060384276": {
          "model_module": "@jupyter-widgets/base",
          "model_module_version": "1.2.0",
          "model_name": "LayoutModel",
          "state": {
            "_model_module": "@jupyter-widgets/base",
            "_model_module_version": "1.2.0",
            "_model_name": "LayoutModel",
            "_view_count": null,
            "_view_module": "@jupyter-widgets/base",
            "_view_module_version": "1.2.0",
            "_view_name": "LayoutView",
            "align_content": null,
            "align_items": null,
            "align_self": null,
            "border": null,
            "bottom": null,
            "display": null,
            "flex": null,
            "flex_flow": null,
            "grid_area": null,
            "grid_auto_columns": null,
            "grid_auto_flow": null,
            "grid_auto_rows": null,
            "grid_column": null,
            "grid_gap": null,
            "grid_row": null,
            "grid_template_areas": null,
            "grid_template_columns": null,
            "grid_template_rows": null,
            "height": null,
            "justify_content": null,
            "justify_items": null,
            "left": null,
            "margin": null,
            "max_height": null,
            "max_width": null,
            "min_height": null,
            "min_width": null,
            "object_fit": null,
            "object_position": null,
            "order": null,
            "overflow": null,
            "overflow_x": null,
            "overflow_y": null,
            "padding": null,
            "right": null,
            "top": null,
            "visibility": null,
            "width": null
          }
        },
        "48d388945c96428d963b9f7fbda0f5e8": {
          "model_module": "@jupyter-widgets/base",
          "model_module_version": "1.2.0",
          "model_name": "LayoutModel",
          "state": {
            "_model_module": "@jupyter-widgets/base",
            "_model_module_version": "1.2.0",
            "_model_name": "LayoutModel",
            "_view_count": null,
            "_view_module": "@jupyter-widgets/base",
            "_view_module_version": "1.2.0",
            "_view_name": "LayoutView",
            "align_content": null,
            "align_items": null,
            "align_self": null,
            "border": null,
            "bottom": null,
            "display": null,
            "flex": null,
            "flex_flow": null,
            "grid_area": null,
            "grid_auto_columns": null,
            "grid_auto_flow": null,
            "grid_auto_rows": null,
            "grid_column": null,
            "grid_gap": null,
            "grid_row": null,
            "grid_template_areas": null,
            "grid_template_columns": null,
            "grid_template_rows": null,
            "height": null,
            "justify_content": null,
            "justify_items": null,
            "left": null,
            "margin": null,
            "max_height": null,
            "max_width": null,
            "min_height": null,
            "min_width": null,
            "object_fit": null,
            "object_position": null,
            "order": null,
            "overflow": null,
            "overflow_x": null,
            "overflow_y": null,
            "padding": null,
            "right": null,
            "top": null,
            "visibility": null,
            "width": null
          }
        },
        "49c95606e0d9427690701247d85a8855": {
          "model_module": "@jupyter-widgets/controls",
          "model_module_version": "1.5.0",
          "model_name": "HTMLModel",
          "state": {
            "_dom_classes": [],
            "_model_module": "@jupyter-widgets/controls",
            "_model_module_version": "1.5.0",
            "_model_name": "HTMLModel",
            "_view_count": null,
            "_view_module": "@jupyter-widgets/controls",
            "_view_module_version": "1.5.0",
            "_view_name": "HTMLView",
            "description": "",
            "description_tooltip": null,
            "layout": "IPY_MODEL_45ba94900dc444e3bd5b47c060384276",
            "placeholder": "​",
            "style": "IPY_MODEL_731a0add6a6c4ea98ac042ba341b6958",
            "value": " 84/84 [00:01&lt;00:00, 54.49it/s]"
          }
        },
        "4bc09c818c0747d8abafd37d00337929": {
          "model_module": "@jupyter-widgets/controls",
          "model_module_version": "1.5.0",
          "model_name": "HTMLModel",
          "state": {
            "_dom_classes": [],
            "_model_module": "@jupyter-widgets/controls",
            "_model_module_version": "1.5.0",
            "_model_name": "HTMLModel",
            "_view_count": null,
            "_view_module": "@jupyter-widgets/controls",
            "_view_module_version": "1.5.0",
            "_view_name": "HTMLView",
            "description": "",
            "description_tooltip": null,
            "layout": "IPY_MODEL_c84abda5b0974fc0877d487247c934fb",
            "placeholder": "​",
            "style": "IPY_MODEL_b987721a01a24b49ab69949136787439",
            "value": "100%"
          }
        },
        "4bc20b1f20fd417aa642efec3ecda02e": {
          "model_module": "@jupyter-widgets/base",
          "model_module_version": "1.2.0",
          "model_name": "LayoutModel",
          "state": {
            "_model_module": "@jupyter-widgets/base",
            "_model_module_version": "1.2.0",
            "_model_name": "LayoutModel",
            "_view_count": null,
            "_view_module": "@jupyter-widgets/base",
            "_view_module_version": "1.2.0",
            "_view_name": "LayoutView",
            "align_content": null,
            "align_items": null,
            "align_self": null,
            "border": null,
            "bottom": null,
            "display": null,
            "flex": null,
            "flex_flow": null,
            "grid_area": null,
            "grid_auto_columns": null,
            "grid_auto_flow": null,
            "grid_auto_rows": null,
            "grid_column": null,
            "grid_gap": null,
            "grid_row": null,
            "grid_template_areas": null,
            "grid_template_columns": null,
            "grid_template_rows": null,
            "height": null,
            "justify_content": null,
            "justify_items": null,
            "left": null,
            "margin": null,
            "max_height": null,
            "max_width": null,
            "min_height": null,
            "min_width": null,
            "object_fit": null,
            "object_position": null,
            "order": null,
            "overflow": null,
            "overflow_x": null,
            "overflow_y": null,
            "padding": null,
            "right": null,
            "top": null,
            "visibility": null,
            "width": null
          }
        },
        "4c71c61957ba441488a5aeb875f4add8": {
          "model_module": "@jupyter-widgets/controls",
          "model_module_version": "1.5.0",
          "model_name": "HTMLModel",
          "state": {
            "_dom_classes": [],
            "_model_module": "@jupyter-widgets/controls",
            "_model_module_version": "1.5.0",
            "_model_name": "HTMLModel",
            "_view_count": null,
            "_view_module": "@jupyter-widgets/controls",
            "_view_module_version": "1.5.0",
            "_view_name": "HTMLView",
            "description": "",
            "description_tooltip": null,
            "layout": "IPY_MODEL_b400452be47146c0b08fe2f3f9529764",
            "placeholder": "​",
            "style": "IPY_MODEL_3987d1498bf74ff7a21d6979a023fd98",
            "value": "100%"
          }
        },
        "4db29f7982ad4b7583d504594c474778": {
          "model_module": "@jupyter-widgets/controls",
          "model_module_version": "1.5.0",
          "model_name": "ProgressStyleModel",
          "state": {
            "_model_module": "@jupyter-widgets/controls",
            "_model_module_version": "1.5.0",
            "_model_name": "ProgressStyleModel",
            "_view_count": null,
            "_view_module": "@jupyter-widgets/base",
            "_view_module_version": "1.2.0",
            "_view_name": "StyleView",
            "bar_color": null,
            "description_width": ""
          }
        },
        "4df16cb8c04948b29f912c3aba1a1e42": {
          "model_module": "@jupyter-widgets/controls",
          "model_module_version": "1.5.0",
          "model_name": "DescriptionStyleModel",
          "state": {
            "_model_module": "@jupyter-widgets/controls",
            "_model_module_version": "1.5.0",
            "_model_name": "DescriptionStyleModel",
            "_view_count": null,
            "_view_module": "@jupyter-widgets/base",
            "_view_module_version": "1.2.0",
            "_view_name": "StyleView",
            "description_width": ""
          }
        },
        "511c60d9e0d54b09a11e13400abef192": {
          "model_module": "@jupyter-widgets/controls",
          "model_module_version": "1.5.0",
          "model_name": "HTMLModel",
          "state": {
            "_dom_classes": [],
            "_model_module": "@jupyter-widgets/controls",
            "_model_module_version": "1.5.0",
            "_model_name": "HTMLModel",
            "_view_count": null,
            "_view_module": "@jupyter-widgets/controls",
            "_view_module_version": "1.5.0",
            "_view_name": "HTMLView",
            "description": "",
            "description_tooltip": null,
            "layout": "IPY_MODEL_7e0be56f0e744e658d31f1c7db1b8165",
            "placeholder": "​",
            "style": "IPY_MODEL_bda27d75919b4898b81a9392dc8df418",
            "value": " 5348/5348 [00:38&lt;00:00, 61.03it/s]"
          }
        },
        "59fc324a195843c3a7d67f499a7bbb08": {
          "model_module": "@jupyter-widgets/controls",
          "model_module_version": "1.5.0",
          "model_name": "DescriptionStyleModel",
          "state": {
            "_model_module": "@jupyter-widgets/controls",
            "_model_module_version": "1.5.0",
            "_model_name": "DescriptionStyleModel",
            "_view_count": null,
            "_view_module": "@jupyter-widgets/base",
            "_view_module_version": "1.2.0",
            "_view_name": "StyleView",
            "description_width": ""
          }
        },
        "5db5ecfedd6a40cbb11c691f010e074d": {
          "model_module": "@jupyter-widgets/base",
          "model_module_version": "1.2.0",
          "model_name": "LayoutModel",
          "state": {
            "_model_module": "@jupyter-widgets/base",
            "_model_module_version": "1.2.0",
            "_model_name": "LayoutModel",
            "_view_count": null,
            "_view_module": "@jupyter-widgets/base",
            "_view_module_version": "1.2.0",
            "_view_name": "LayoutView",
            "align_content": null,
            "align_items": null,
            "align_self": null,
            "border": null,
            "bottom": null,
            "display": null,
            "flex": null,
            "flex_flow": null,
            "grid_area": null,
            "grid_auto_columns": null,
            "grid_auto_flow": null,
            "grid_auto_rows": null,
            "grid_column": null,
            "grid_gap": null,
            "grid_row": null,
            "grid_template_areas": null,
            "grid_template_columns": null,
            "grid_template_rows": null,
            "height": null,
            "justify_content": null,
            "justify_items": null,
            "left": null,
            "margin": null,
            "max_height": null,
            "max_width": null,
            "min_height": null,
            "min_width": null,
            "object_fit": null,
            "object_position": null,
            "order": null,
            "overflow": null,
            "overflow_x": null,
            "overflow_y": null,
            "padding": null,
            "right": null,
            "top": null,
            "visibility": null,
            "width": null
          }
        },
        "5e2a168729494983a330acf285479123": {
          "model_module": "@jupyter-widgets/controls",
          "model_module_version": "1.5.0",
          "model_name": "DescriptionStyleModel",
          "state": {
            "_model_module": "@jupyter-widgets/controls",
            "_model_module_version": "1.5.0",
            "_model_name": "DescriptionStyleModel",
            "_view_count": null,
            "_view_module": "@jupyter-widgets/base",
            "_view_module_version": "1.2.0",
            "_view_name": "StyleView",
            "description_width": ""
          }
        },
        "5ef1ef6e65dc445599b78a6feb78c0e8": {
          "model_module": "@jupyter-widgets/base",
          "model_module_version": "1.2.0",
          "model_name": "LayoutModel",
          "state": {
            "_model_module": "@jupyter-widgets/base",
            "_model_module_version": "1.2.0",
            "_model_name": "LayoutModel",
            "_view_count": null,
            "_view_module": "@jupyter-widgets/base",
            "_view_module_version": "1.2.0",
            "_view_name": "LayoutView",
            "align_content": null,
            "align_items": null,
            "align_self": null,
            "border": null,
            "bottom": null,
            "display": null,
            "flex": null,
            "flex_flow": null,
            "grid_area": null,
            "grid_auto_columns": null,
            "grid_auto_flow": null,
            "grid_auto_rows": null,
            "grid_column": null,
            "grid_gap": null,
            "grid_row": null,
            "grid_template_areas": null,
            "grid_template_columns": null,
            "grid_template_rows": null,
            "height": null,
            "justify_content": null,
            "justify_items": null,
            "left": null,
            "margin": null,
            "max_height": null,
            "max_width": null,
            "min_height": null,
            "min_width": null,
            "object_fit": null,
            "object_position": null,
            "order": null,
            "overflow": null,
            "overflow_x": null,
            "overflow_y": null,
            "padding": null,
            "right": null,
            "top": null,
            "visibility": null,
            "width": null
          }
        },
        "5f23f01fd1ae4d86a2eb3673841377f9": {
          "model_module": "@jupyter-widgets/base",
          "model_module_version": "1.2.0",
          "model_name": "LayoutModel",
          "state": {
            "_model_module": "@jupyter-widgets/base",
            "_model_module_version": "1.2.0",
            "_model_name": "LayoutModel",
            "_view_count": null,
            "_view_module": "@jupyter-widgets/base",
            "_view_module_version": "1.2.0",
            "_view_name": "LayoutView",
            "align_content": null,
            "align_items": null,
            "align_self": null,
            "border": null,
            "bottom": null,
            "display": null,
            "flex": null,
            "flex_flow": null,
            "grid_area": null,
            "grid_auto_columns": null,
            "grid_auto_flow": null,
            "grid_auto_rows": null,
            "grid_column": null,
            "grid_gap": null,
            "grid_row": null,
            "grid_template_areas": null,
            "grid_template_columns": null,
            "grid_template_rows": null,
            "height": null,
            "justify_content": null,
            "justify_items": null,
            "left": null,
            "margin": null,
            "max_height": null,
            "max_width": null,
            "min_height": null,
            "min_width": null,
            "object_fit": null,
            "object_position": null,
            "order": null,
            "overflow": null,
            "overflow_x": null,
            "overflow_y": null,
            "padding": null,
            "right": null,
            "top": null,
            "visibility": null,
            "width": null
          }
        },
        "617c30190e854e27a2c88430d34626b3": {
          "model_module": "@jupyter-widgets/controls",
          "model_module_version": "1.5.0",
          "model_name": "HBoxModel",
          "state": {
            "_dom_classes": [],
            "_model_module": "@jupyter-widgets/controls",
            "_model_module_version": "1.5.0",
            "_model_name": "HBoxModel",
            "_view_count": null,
            "_view_module": "@jupyter-widgets/controls",
            "_view_module_version": "1.5.0",
            "_view_name": "HBoxView",
            "box_style": "",
            "children": [
              "IPY_MODEL_8d8d07a528bf45e8b22a2157336d7508",
              "IPY_MODEL_c6b33a1ab7c142fabaeae92dd7fd418e",
              "IPY_MODEL_8c82fb33dd9e4d7a9771e043cf1987e2"
            ],
            "layout": "IPY_MODEL_01a4ebe08bd34f2591ef0083504ff7cb"
          }
        },
        "6209c91d5ff94ea6bad7f4b0c2bb7197": {
          "model_module": "@jupyter-widgets/controls",
          "model_module_version": "1.5.0",
          "model_name": "FloatProgressModel",
          "state": {
            "_dom_classes": [],
            "_model_module": "@jupyter-widgets/controls",
            "_model_module_version": "1.5.0",
            "_model_name": "FloatProgressModel",
            "_view_count": null,
            "_view_module": "@jupyter-widgets/controls",
            "_view_module_version": "1.5.0",
            "_view_name": "ProgressView",
            "bar_style": "success",
            "description": "",
            "description_tooltip": null,
            "layout": "IPY_MODEL_33a37df15ae046b0b96781f8e0720137",
            "max": 127,
            "min": 0,
            "orientation": "horizontal",
            "style": "IPY_MODEL_e1c472d713ec41d5870754f6cbcbcf35",
            "value": 127
          }
        },
        "62bed5758b5f4c789a290972441ff204": {
          "model_module": "@jupyter-widgets/controls",
          "model_module_version": "1.5.0",
          "model_name": "ProgressStyleModel",
          "state": {
            "_model_module": "@jupyter-widgets/controls",
            "_model_module_version": "1.5.0",
            "_model_name": "ProgressStyleModel",
            "_view_count": null,
            "_view_module": "@jupyter-widgets/base",
            "_view_module_version": "1.2.0",
            "_view_name": "StyleView",
            "bar_color": null,
            "description_width": ""
          }
        },
        "6a685cc6ca39431e91666582dadcd5ea": {
          "model_module": "@jupyter-widgets/controls",
          "model_module_version": "1.5.0",
          "model_name": "DescriptionStyleModel",
          "state": {
            "_model_module": "@jupyter-widgets/controls",
            "_model_module_version": "1.5.0",
            "_model_name": "DescriptionStyleModel",
            "_view_count": null,
            "_view_module": "@jupyter-widgets/base",
            "_view_module_version": "1.2.0",
            "_view_name": "StyleView",
            "description_width": ""
          }
        },
        "6e705ae9b2224a6b9dc5009cf829882c": {
          "model_module": "@jupyter-widgets/controls",
          "model_module_version": "1.5.0",
          "model_name": "HTMLModel",
          "state": {
            "_dom_classes": [],
            "_model_module": "@jupyter-widgets/controls",
            "_model_module_version": "1.5.0",
            "_model_name": "HTMLModel",
            "_view_count": null,
            "_view_module": "@jupyter-widgets/controls",
            "_view_module_version": "1.5.0",
            "_view_name": "HTMLView",
            "description": "",
            "description_tooltip": null,
            "layout": "IPY_MODEL_039ff530318d450f86da46c734aa6cb0",
            "placeholder": "​",
            "style": "IPY_MODEL_2dce8f453ee14b88a27b2510321f816a",
            "value": " 127/127 [00:08&lt;00:00, 17.47it/s]"
          }
        },
        "6e90e6aa60eb4e15a64586083fa225db": {
          "model_module": "@jupyter-widgets/controls",
          "model_module_version": "1.5.0",
          "model_name": "HTMLModel",
          "state": {
            "_dom_classes": [],
            "_model_module": "@jupyter-widgets/controls",
            "_model_module_version": "1.5.0",
            "_model_name": "HTMLModel",
            "_view_count": null,
            "_view_module": "@jupyter-widgets/controls",
            "_view_module_version": "1.5.0",
            "_view_name": "HTMLView",
            "description": "",
            "description_tooltip": null,
            "layout": "IPY_MODEL_a882093b895440fd9f7b8e7b260ac651",
            "placeholder": "​",
            "style": "IPY_MODEL_275b936ce2ef4d508541e253df35b185",
            "value": "100%"
          }
        },
        "6ef0cb99669648c7a099cdc78ba31bfb": {
          "model_module": "@jupyter-widgets/controls",
          "model_module_version": "1.5.0",
          "model_name": "HTMLModel",
          "state": {
            "_dom_classes": [],
            "_model_module": "@jupyter-widgets/controls",
            "_model_module_version": "1.5.0",
            "_model_name": "HTMLModel",
            "_view_count": null,
            "_view_module": "@jupyter-widgets/controls",
            "_view_module_version": "1.5.0",
            "_view_name": "HTMLView",
            "description": "",
            "description_tooltip": null,
            "layout": "IPY_MODEL_5db5ecfedd6a40cbb11c691f010e074d",
            "placeholder": "​",
            "style": "IPY_MODEL_ea8890ed7120455cb68df2436f91b41e",
            "value": "100%"
          }
        },
        "70400a0cbb8044098322c0114812b36a": {
          "model_module": "@jupyter-widgets/base",
          "model_module_version": "1.2.0",
          "model_name": "LayoutModel",
          "state": {
            "_model_module": "@jupyter-widgets/base",
            "_model_module_version": "1.2.0",
            "_model_name": "LayoutModel",
            "_view_count": null,
            "_view_module": "@jupyter-widgets/base",
            "_view_module_version": "1.2.0",
            "_view_name": "LayoutView",
            "align_content": null,
            "align_items": null,
            "align_self": null,
            "border": null,
            "bottom": null,
            "display": null,
            "flex": null,
            "flex_flow": null,
            "grid_area": null,
            "grid_auto_columns": null,
            "grid_auto_flow": null,
            "grid_auto_rows": null,
            "grid_column": null,
            "grid_gap": null,
            "grid_row": null,
            "grid_template_areas": null,
            "grid_template_columns": null,
            "grid_template_rows": null,
            "height": null,
            "justify_content": null,
            "justify_items": null,
            "left": null,
            "margin": null,
            "max_height": null,
            "max_width": null,
            "min_height": null,
            "min_width": null,
            "object_fit": null,
            "object_position": null,
            "order": null,
            "overflow": null,
            "overflow_x": null,
            "overflow_y": null,
            "padding": null,
            "right": null,
            "top": null,
            "visibility": null,
            "width": null
          }
        },
        "71d27925cd6d4d3f9d44d1e452ff982b": {
          "model_module": "@jupyter-widgets/controls",
          "model_module_version": "1.5.0",
          "model_name": "FloatProgressModel",
          "state": {
            "_dom_classes": [],
            "_model_module": "@jupyter-widgets/controls",
            "_model_module_version": "1.5.0",
            "_model_name": "FloatProgressModel",
            "_view_count": null,
            "_view_module": "@jupyter-widgets/controls",
            "_view_module_version": "1.5.0",
            "_view_name": "ProgressView",
            "bar_style": "success",
            "description": "",
            "description_tooltip": null,
            "layout": "IPY_MODEL_37105ecd03e847eab5bccc4cedeef9ce",
            "max": 3075,
            "min": 0,
            "orientation": "horizontal",
            "style": "IPY_MODEL_ccd68227ed4d45e395662671332a4dbd",
            "value": 3075
          }
        },
        "731a0add6a6c4ea98ac042ba341b6958": {
          "model_module": "@jupyter-widgets/controls",
          "model_module_version": "1.5.0",
          "model_name": "DescriptionStyleModel",
          "state": {
            "_model_module": "@jupyter-widgets/controls",
            "_model_module_version": "1.5.0",
            "_model_name": "DescriptionStyleModel",
            "_view_count": null,
            "_view_module": "@jupyter-widgets/base",
            "_view_module_version": "1.2.0",
            "_view_name": "StyleView",
            "description_width": ""
          }
        },
        "73bd5bb64a1b47878ef346f13f1d2fdf": {
          "model_module": "@jupyter-widgets/base",
          "model_module_version": "1.2.0",
          "model_name": "LayoutModel",
          "state": {
            "_model_module": "@jupyter-widgets/base",
            "_model_module_version": "1.2.0",
            "_model_name": "LayoutModel",
            "_view_count": null,
            "_view_module": "@jupyter-widgets/base",
            "_view_module_version": "1.2.0",
            "_view_name": "LayoutView",
            "align_content": null,
            "align_items": null,
            "align_self": null,
            "border": null,
            "bottom": null,
            "display": null,
            "flex": null,
            "flex_flow": null,
            "grid_area": null,
            "grid_auto_columns": null,
            "grid_auto_flow": null,
            "grid_auto_rows": null,
            "grid_column": null,
            "grid_gap": null,
            "grid_row": null,
            "grid_template_areas": null,
            "grid_template_columns": null,
            "grid_template_rows": null,
            "height": null,
            "justify_content": null,
            "justify_items": null,
            "left": null,
            "margin": null,
            "max_height": null,
            "max_width": null,
            "min_height": null,
            "min_width": null,
            "object_fit": null,
            "object_position": null,
            "order": null,
            "overflow": null,
            "overflow_x": null,
            "overflow_y": null,
            "padding": null,
            "right": null,
            "top": null,
            "visibility": null,
            "width": null
          }
        },
        "772ceb674b254ee28f9b76773e5a9c8a": {
          "model_module": "@jupyter-widgets/controls",
          "model_module_version": "1.5.0",
          "model_name": "HTMLModel",
          "state": {
            "_dom_classes": [],
            "_model_module": "@jupyter-widgets/controls",
            "_model_module_version": "1.5.0",
            "_model_name": "HTMLModel",
            "_view_count": null,
            "_view_module": "@jupyter-widgets/controls",
            "_view_module_version": "1.5.0",
            "_view_name": "HTMLView",
            "description": "",
            "description_tooltip": null,
            "layout": "IPY_MODEL_73bd5bb64a1b47878ef346f13f1d2fdf",
            "placeholder": "​",
            "style": "IPY_MODEL_0a820f6ed7a549938f89e9d169e9af4b",
            "value": "100%"
          }
        },
        "7835b94a4cca46aa991cbfea41290310": {
          "model_module": "@jupyter-widgets/controls",
          "model_module_version": "1.5.0",
          "model_name": "HTMLModel",
          "state": {
            "_dom_classes": [],
            "_model_module": "@jupyter-widgets/controls",
            "_model_module_version": "1.5.0",
            "_model_name": "HTMLModel",
            "_view_count": null,
            "_view_module": "@jupyter-widgets/controls",
            "_view_module_version": "1.5.0",
            "_view_name": "HTMLView",
            "description": "",
            "description_tooltip": null,
            "layout": "IPY_MODEL_a7ad913d2674439da3e4be50ee9c2718",
            "placeholder": "​",
            "style": "IPY_MODEL_09bd30df18f54d04a3002adc5520e86c",
            "value": " 9028/9028 [01:43&lt;00:00, 68.02it/s]"
          }
        },
        "7d4c0036fa614029aed595fc57c02604": {
          "model_module": "@jupyter-widgets/controls",
          "model_module_version": "1.5.0",
          "model_name": "FloatProgressModel",
          "state": {
            "_dom_classes": [],
            "_model_module": "@jupyter-widgets/controls",
            "_model_module_version": "1.5.0",
            "_model_name": "FloatProgressModel",
            "_view_count": null,
            "_view_module": "@jupyter-widgets/controls",
            "_view_module_version": "1.5.0",
            "_view_name": "ProgressView",
            "bar_style": "success",
            "description": "",
            "description_tooltip": null,
            "layout": "IPY_MODEL_041ebef6fa3f41c8bf268cec3d217179",
            "max": 127,
            "min": 0,
            "orientation": "horizontal",
            "style": "IPY_MODEL_cb9550cf5d2945a7acc3ca6a91a18a97",
            "value": 127
          }
        },
        "7e0be56f0e744e658d31f1c7db1b8165": {
          "model_module": "@jupyter-widgets/base",
          "model_module_version": "1.2.0",
          "model_name": "LayoutModel",
          "state": {
            "_model_module": "@jupyter-widgets/base",
            "_model_module_version": "1.2.0",
            "_model_name": "LayoutModel",
            "_view_count": null,
            "_view_module": "@jupyter-widgets/base",
            "_view_module_version": "1.2.0",
            "_view_name": "LayoutView",
            "align_content": null,
            "align_items": null,
            "align_self": null,
            "border": null,
            "bottom": null,
            "display": null,
            "flex": null,
            "flex_flow": null,
            "grid_area": null,
            "grid_auto_columns": null,
            "grid_auto_flow": null,
            "grid_auto_rows": null,
            "grid_column": null,
            "grid_gap": null,
            "grid_row": null,
            "grid_template_areas": null,
            "grid_template_columns": null,
            "grid_template_rows": null,
            "height": null,
            "justify_content": null,
            "justify_items": null,
            "left": null,
            "margin": null,
            "max_height": null,
            "max_width": null,
            "min_height": null,
            "min_width": null,
            "object_fit": null,
            "object_position": null,
            "order": null,
            "overflow": null,
            "overflow_x": null,
            "overflow_y": null,
            "padding": null,
            "right": null,
            "top": null,
            "visibility": null,
            "width": null
          }
        },
        "7fc77d44cf8c4e7481857f3187b28614": {
          "model_module": "@jupyter-widgets/controls",
          "model_module_version": "1.5.0",
          "model_name": "FloatProgressModel",
          "state": {
            "_dom_classes": [],
            "_model_module": "@jupyter-widgets/controls",
            "_model_module_version": "1.5.0",
            "_model_name": "FloatProgressModel",
            "_view_count": null,
            "_view_module": "@jupyter-widgets/controls",
            "_view_module_version": "1.5.0",
            "_view_name": "ProgressView",
            "bar_style": "success",
            "description": "",
            "description_tooltip": null,
            "layout": "IPY_MODEL_29078c6107d042a3bf6592de5172d0d6",
            "max": 84,
            "min": 0,
            "orientation": "horizontal",
            "style": "IPY_MODEL_b4e27c914adb4a07b5f3476918d313ac",
            "value": 84
          }
        },
        "84cad0129e9f486abda08f9e33422cb2": {
          "model_module": "@jupyter-widgets/base",
          "model_module_version": "1.2.0",
          "model_name": "LayoutModel",
          "state": {
            "_model_module": "@jupyter-widgets/base",
            "_model_module_version": "1.2.0",
            "_model_name": "LayoutModel",
            "_view_count": null,
            "_view_module": "@jupyter-widgets/base",
            "_view_module_version": "1.2.0",
            "_view_name": "LayoutView",
            "align_content": null,
            "align_items": null,
            "align_self": null,
            "border": null,
            "bottom": null,
            "display": null,
            "flex": null,
            "flex_flow": null,
            "grid_area": null,
            "grid_auto_columns": null,
            "grid_auto_flow": null,
            "grid_auto_rows": null,
            "grid_column": null,
            "grid_gap": null,
            "grid_row": null,
            "grid_template_areas": null,
            "grid_template_columns": null,
            "grid_template_rows": null,
            "height": null,
            "justify_content": null,
            "justify_items": null,
            "left": null,
            "margin": null,
            "max_height": null,
            "max_width": null,
            "min_height": null,
            "min_width": null,
            "object_fit": null,
            "object_position": null,
            "order": null,
            "overflow": null,
            "overflow_x": null,
            "overflow_y": null,
            "padding": null,
            "right": null,
            "top": null,
            "visibility": null,
            "width": null
          }
        },
        "86f9f34836db4199874572c40ba62aed": {
          "model_module": "@jupyter-widgets/base",
          "model_module_version": "1.2.0",
          "model_name": "LayoutModel",
          "state": {
            "_model_module": "@jupyter-widgets/base",
            "_model_module_version": "1.2.0",
            "_model_name": "LayoutModel",
            "_view_count": null,
            "_view_module": "@jupyter-widgets/base",
            "_view_module_version": "1.2.0",
            "_view_name": "LayoutView",
            "align_content": null,
            "align_items": null,
            "align_self": null,
            "border": null,
            "bottom": null,
            "display": null,
            "flex": null,
            "flex_flow": null,
            "grid_area": null,
            "grid_auto_columns": null,
            "grid_auto_flow": null,
            "grid_auto_rows": null,
            "grid_column": null,
            "grid_gap": null,
            "grid_row": null,
            "grid_template_areas": null,
            "grid_template_columns": null,
            "grid_template_rows": null,
            "height": null,
            "justify_content": null,
            "justify_items": null,
            "left": null,
            "margin": null,
            "max_height": null,
            "max_width": null,
            "min_height": null,
            "min_width": null,
            "object_fit": null,
            "object_position": null,
            "order": null,
            "overflow": null,
            "overflow_x": null,
            "overflow_y": null,
            "padding": null,
            "right": null,
            "top": null,
            "visibility": null,
            "width": null
          }
        },
        "881482b0cc544d158b310049e0875a9b": {
          "model_module": "@jupyter-widgets/base",
          "model_module_version": "1.2.0",
          "model_name": "LayoutModel",
          "state": {
            "_model_module": "@jupyter-widgets/base",
            "_model_module_version": "1.2.0",
            "_model_name": "LayoutModel",
            "_view_count": null,
            "_view_module": "@jupyter-widgets/base",
            "_view_module_version": "1.2.0",
            "_view_name": "LayoutView",
            "align_content": null,
            "align_items": null,
            "align_self": null,
            "border": null,
            "bottom": null,
            "display": null,
            "flex": null,
            "flex_flow": null,
            "grid_area": null,
            "grid_auto_columns": null,
            "grid_auto_flow": null,
            "grid_auto_rows": null,
            "grid_column": null,
            "grid_gap": null,
            "grid_row": null,
            "grid_template_areas": null,
            "grid_template_columns": null,
            "grid_template_rows": null,
            "height": null,
            "justify_content": null,
            "justify_items": null,
            "left": null,
            "margin": null,
            "max_height": null,
            "max_width": null,
            "min_height": null,
            "min_width": null,
            "object_fit": null,
            "object_position": null,
            "order": null,
            "overflow": null,
            "overflow_x": null,
            "overflow_y": null,
            "padding": null,
            "right": null,
            "top": null,
            "visibility": null,
            "width": null
          }
        },
        "8c82fb33dd9e4d7a9771e043cf1987e2": {
          "model_module": "@jupyter-widgets/controls",
          "model_module_version": "1.5.0",
          "model_name": "HTMLModel",
          "state": {
            "_dom_classes": [],
            "_model_module": "@jupyter-widgets/controls",
            "_model_module_version": "1.5.0",
            "_model_name": "HTMLModel",
            "_view_count": null,
            "_view_module": "@jupyter-widgets/controls",
            "_view_module_version": "1.5.0",
            "_view_name": "HTMLView",
            "description": "",
            "description_tooltip": null,
            "layout": "IPY_MODEL_e86e5bb2cdd447c2bf706a987d47c17e",
            "placeholder": "​",
            "style": "IPY_MODEL_fbcb5348c000470497517f9d8558eb75",
            "value": " 127/127 [00:08&lt;00:00, 12.85it/s]"
          }
        },
        "8d8d07a528bf45e8b22a2157336d7508": {
          "model_module": "@jupyter-widgets/controls",
          "model_module_version": "1.5.0",
          "model_name": "HTMLModel",
          "state": {
            "_dom_classes": [],
            "_model_module": "@jupyter-widgets/controls",
            "_model_module_version": "1.5.0",
            "_model_name": "HTMLModel",
            "_view_count": null,
            "_view_module": "@jupyter-widgets/controls",
            "_view_module_version": "1.5.0",
            "_view_name": "HTMLView",
            "description": "",
            "description_tooltip": null,
            "layout": "IPY_MODEL_86f9f34836db4199874572c40ba62aed",
            "placeholder": "​",
            "style": "IPY_MODEL_0a759dc2ae6145a999be7353ee0c2caf",
            "value": "100%"
          }
        },
        "8f3b7d3192634bb18907f13a4a7fe5a3": {
          "model_module": "@jupyter-widgets/controls",
          "model_module_version": "1.5.0",
          "model_name": "HTMLModel",
          "state": {
            "_dom_classes": [],
            "_model_module": "@jupyter-widgets/controls",
            "_model_module_version": "1.5.0",
            "_model_name": "HTMLModel",
            "_view_count": null,
            "_view_module": "@jupyter-widgets/controls",
            "_view_module_version": "1.5.0",
            "_view_name": "HTMLView",
            "description": "",
            "description_tooltip": null,
            "layout": "IPY_MODEL_4bc20b1f20fd417aa642efec3ecda02e",
            "placeholder": "​",
            "style": "IPY_MODEL_03d96ed4d83c43268f2f89f237d8bd56",
            "value": " 127/127 [00:08&lt;00:00, 16.20it/s]"
          }
        },
        "8f3d02a4f1fc47ff92420b30c0e5ce53": {
          "model_module": "@jupyter-widgets/controls",
          "model_module_version": "1.5.0",
          "model_name": "DescriptionStyleModel",
          "state": {
            "_model_module": "@jupyter-widgets/controls",
            "_model_module_version": "1.5.0",
            "_model_name": "DescriptionStyleModel",
            "_view_count": null,
            "_view_module": "@jupyter-widgets/base",
            "_view_module_version": "1.2.0",
            "_view_name": "StyleView",
            "description_width": ""
          }
        },
        "981230c4924746a888d22bf66d7b090d": {
          "model_module": "@jupyter-widgets/controls",
          "model_module_version": "1.5.0",
          "model_name": "HTMLModel",
          "state": {
            "_dom_classes": [],
            "_model_module": "@jupyter-widgets/controls",
            "_model_module_version": "1.5.0",
            "_model_name": "HTMLModel",
            "_view_count": null,
            "_view_module": "@jupyter-widgets/controls",
            "_view_module_version": "1.5.0",
            "_view_name": "HTMLView",
            "description": "",
            "description_tooltip": null,
            "layout": "IPY_MODEL_2aa2018154404a86a1f0391544fe345d",
            "placeholder": "​",
            "style": "IPY_MODEL_6a685cc6ca39431e91666582dadcd5ea",
            "value": " 3075/3075 [01:00&lt;00:00, 108.46it/s]"
          }
        },
        "99af6f25bc624a4991e08d2087f1ff9f": {
          "model_module": "@jupyter-widgets/controls",
          "model_module_version": "1.5.0",
          "model_name": "DescriptionStyleModel",
          "state": {
            "_model_module": "@jupyter-widgets/controls",
            "_model_module_version": "1.5.0",
            "_model_name": "DescriptionStyleModel",
            "_view_count": null,
            "_view_module": "@jupyter-widgets/base",
            "_view_module_version": "1.2.0",
            "_view_name": "StyleView",
            "description_width": ""
          }
        },
        "9eae117c01d74c18a8c7f0ebbd86a739": {
          "model_module": "@jupyter-widgets/controls",
          "model_module_version": "1.5.0",
          "model_name": "HTMLModel",
          "state": {
            "_dom_classes": [],
            "_model_module": "@jupyter-widgets/controls",
            "_model_module_version": "1.5.0",
            "_model_name": "HTMLModel",
            "_view_count": null,
            "_view_module": "@jupyter-widgets/controls",
            "_view_module_version": "1.5.0",
            "_view_name": "HTMLView",
            "description": "",
            "description_tooltip": null,
            "layout": "IPY_MODEL_107233ace717456ab4248c8e22d6bbeb",
            "placeholder": "​",
            "style": "IPY_MODEL_e80775e90ee04003a20682aaea2a577b",
            "value": " 127/127 [00:07&lt;00:00, 21.70it/s]"
          }
        },
        "a28e5dcd46544efaa7a6a56783f2f50c": {
          "model_module": "@jupyter-widgets/base",
          "model_module_version": "1.2.0",
          "model_name": "LayoutModel",
          "state": {
            "_model_module": "@jupyter-widgets/base",
            "_model_module_version": "1.2.0",
            "_model_name": "LayoutModel",
            "_view_count": null,
            "_view_module": "@jupyter-widgets/base",
            "_view_module_version": "1.2.0",
            "_view_name": "LayoutView",
            "align_content": null,
            "align_items": null,
            "align_self": null,
            "border": null,
            "bottom": null,
            "display": null,
            "flex": null,
            "flex_flow": null,
            "grid_area": null,
            "grid_auto_columns": null,
            "grid_auto_flow": null,
            "grid_auto_rows": null,
            "grid_column": null,
            "grid_gap": null,
            "grid_row": null,
            "grid_template_areas": null,
            "grid_template_columns": null,
            "grid_template_rows": null,
            "height": null,
            "justify_content": null,
            "justify_items": null,
            "left": null,
            "margin": null,
            "max_height": null,
            "max_width": null,
            "min_height": null,
            "min_width": null,
            "object_fit": null,
            "object_position": null,
            "order": null,
            "overflow": null,
            "overflow_x": null,
            "overflow_y": null,
            "padding": null,
            "right": null,
            "top": null,
            "visibility": null,
            "width": null
          }
        },
        "a321c7f1b9894478828bd5a630f47e1d": {
          "model_module": "@jupyter-widgets/controls",
          "model_module_version": "1.5.0",
          "model_name": "ProgressStyleModel",
          "state": {
            "_model_module": "@jupyter-widgets/controls",
            "_model_module_version": "1.5.0",
            "_model_name": "ProgressStyleModel",
            "_view_count": null,
            "_view_module": "@jupyter-widgets/base",
            "_view_module_version": "1.2.0",
            "_view_name": "StyleView",
            "bar_color": null,
            "description_width": ""
          }
        },
        "a7ad913d2674439da3e4be50ee9c2718": {
          "model_module": "@jupyter-widgets/base",
          "model_module_version": "1.2.0",
          "model_name": "LayoutModel",
          "state": {
            "_model_module": "@jupyter-widgets/base",
            "_model_module_version": "1.2.0",
            "_model_name": "LayoutModel",
            "_view_count": null,
            "_view_module": "@jupyter-widgets/base",
            "_view_module_version": "1.2.0",
            "_view_name": "LayoutView",
            "align_content": null,
            "align_items": null,
            "align_self": null,
            "border": null,
            "bottom": null,
            "display": null,
            "flex": null,
            "flex_flow": null,
            "grid_area": null,
            "grid_auto_columns": null,
            "grid_auto_flow": null,
            "grid_auto_rows": null,
            "grid_column": null,
            "grid_gap": null,
            "grid_row": null,
            "grid_template_areas": null,
            "grid_template_columns": null,
            "grid_template_rows": null,
            "height": null,
            "justify_content": null,
            "justify_items": null,
            "left": null,
            "margin": null,
            "max_height": null,
            "max_width": null,
            "min_height": null,
            "min_width": null,
            "object_fit": null,
            "object_position": null,
            "order": null,
            "overflow": null,
            "overflow_x": null,
            "overflow_y": null,
            "padding": null,
            "right": null,
            "top": null,
            "visibility": null,
            "width": null
          }
        },
        "a860094fe240461389c4b85042e3086f": {
          "model_module": "@jupyter-widgets/controls",
          "model_module_version": "1.5.0",
          "model_name": "HTMLModel",
          "state": {
            "_dom_classes": [],
            "_model_module": "@jupyter-widgets/controls",
            "_model_module_version": "1.5.0",
            "_model_name": "HTMLModel",
            "_view_count": null,
            "_view_module": "@jupyter-widgets/controls",
            "_view_module_version": "1.5.0",
            "_view_name": "HTMLView",
            "description": "",
            "description_tooltip": null,
            "layout": "IPY_MODEL_e066db5c23434807abea0df103ebcd13",
            "placeholder": "​",
            "style": "IPY_MODEL_59fc324a195843c3a7d67f499a7bbb08",
            "value": "100%"
          }
        },
        "a882093b895440fd9f7b8e7b260ac651": {
          "model_module": "@jupyter-widgets/base",
          "model_module_version": "1.2.0",
          "model_name": "LayoutModel",
          "state": {
            "_model_module": "@jupyter-widgets/base",
            "_model_module_version": "1.2.0",
            "_model_name": "LayoutModel",
            "_view_count": null,
            "_view_module": "@jupyter-widgets/base",
            "_view_module_version": "1.2.0",
            "_view_name": "LayoutView",
            "align_content": null,
            "align_items": null,
            "align_self": null,
            "border": null,
            "bottom": null,
            "display": null,
            "flex": null,
            "flex_flow": null,
            "grid_area": null,
            "grid_auto_columns": null,
            "grid_auto_flow": null,
            "grid_auto_rows": null,
            "grid_column": null,
            "grid_gap": null,
            "grid_row": null,
            "grid_template_areas": null,
            "grid_template_columns": null,
            "grid_template_rows": null,
            "height": null,
            "justify_content": null,
            "justify_items": null,
            "left": null,
            "margin": null,
            "max_height": null,
            "max_width": null,
            "min_height": null,
            "min_width": null,
            "object_fit": null,
            "object_position": null,
            "order": null,
            "overflow": null,
            "overflow_x": null,
            "overflow_y": null,
            "padding": null,
            "right": null,
            "top": null,
            "visibility": null,
            "width": null
          }
        },
        "ab29be4ea0e04ec4825415dcc2401729": {
          "model_module": "@jupyter-widgets/controls",
          "model_module_version": "1.5.0",
          "model_name": "FloatProgressModel",
          "state": {
            "_dom_classes": [],
            "_model_module": "@jupyter-widgets/controls",
            "_model_module_version": "1.5.0",
            "_model_name": "FloatProgressModel",
            "_view_count": null,
            "_view_module": "@jupyter-widgets/controls",
            "_view_module_version": "1.5.0",
            "_view_name": "ProgressView",
            "bar_style": "success",
            "description": "",
            "description_tooltip": null,
            "layout": "IPY_MODEL_5f23f01fd1ae4d86a2eb3673841377f9",
            "max": 76,
            "min": 0,
            "orientation": "horizontal",
            "style": "IPY_MODEL_2ba4da78fe6c4853887533b96cba38fa",
            "value": 76
          }
        },
        "ac4c4f7ef5ad4c92beb525d01f7149a3": {
          "model_module": "@jupyter-widgets/controls",
          "model_module_version": "1.5.0",
          "model_name": "HBoxModel",
          "state": {
            "_dom_classes": [],
            "_model_module": "@jupyter-widgets/controls",
            "_model_module_version": "1.5.0",
            "_model_name": "HBoxModel",
            "_view_count": null,
            "_view_module": "@jupyter-widgets/controls",
            "_view_module_version": "1.5.0",
            "_view_name": "HBoxView",
            "box_style": "",
            "children": [
              "IPY_MODEL_772ceb674b254ee28f9b76773e5a9c8a",
              "IPY_MODEL_bbdba7e8a4bb4afc85d5d73a63c42457",
              "IPY_MODEL_8f3b7d3192634bb18907f13a4a7fe5a3"
            ],
            "layout": "IPY_MODEL_d985a20140344708a1d96a21a83c16a4"
          }
        },
        "adc1d21871a84183a853dcc3d89f1b31": {
          "model_module": "@jupyter-widgets/controls",
          "model_module_version": "1.5.0",
          "model_name": "HTMLModel",
          "state": {
            "_dom_classes": [],
            "_model_module": "@jupyter-widgets/controls",
            "_model_module_version": "1.5.0",
            "_model_name": "HTMLModel",
            "_view_count": null,
            "_view_module": "@jupyter-widgets/controls",
            "_view_module_version": "1.5.0",
            "_view_name": "HTMLView",
            "description": "",
            "description_tooltip": null,
            "layout": "IPY_MODEL_457f8b9275ba4adc9790da1b8ff47b2f",
            "placeholder": "​",
            "style": "IPY_MODEL_4df16cb8c04948b29f912c3aba1a1e42",
            "value": "100%"
          }
        },
        "b3f6fd3d0b1844bebb8344e9dc301b1e": {
          "model_module": "@jupyter-widgets/base",
          "model_module_version": "1.2.0",
          "model_name": "LayoutModel",
          "state": {
            "_model_module": "@jupyter-widgets/base",
            "_model_module_version": "1.2.0",
            "_model_name": "LayoutModel",
            "_view_count": null,
            "_view_module": "@jupyter-widgets/base",
            "_view_module_version": "1.2.0",
            "_view_name": "LayoutView",
            "align_content": null,
            "align_items": null,
            "align_self": null,
            "border": null,
            "bottom": null,
            "display": null,
            "flex": null,
            "flex_flow": null,
            "grid_area": null,
            "grid_auto_columns": null,
            "grid_auto_flow": null,
            "grid_auto_rows": null,
            "grid_column": null,
            "grid_gap": null,
            "grid_row": null,
            "grid_template_areas": null,
            "grid_template_columns": null,
            "grid_template_rows": null,
            "height": null,
            "justify_content": null,
            "justify_items": null,
            "left": null,
            "margin": null,
            "max_height": null,
            "max_width": null,
            "min_height": null,
            "min_width": null,
            "object_fit": null,
            "object_position": null,
            "order": null,
            "overflow": null,
            "overflow_x": null,
            "overflow_y": null,
            "padding": null,
            "right": null,
            "top": null,
            "visibility": null,
            "width": null
          }
        },
        "b400452be47146c0b08fe2f3f9529764": {
          "model_module": "@jupyter-widgets/base",
          "model_module_version": "1.2.0",
          "model_name": "LayoutModel",
          "state": {
            "_model_module": "@jupyter-widgets/base",
            "_model_module_version": "1.2.0",
            "_model_name": "LayoutModel",
            "_view_count": null,
            "_view_module": "@jupyter-widgets/base",
            "_view_module_version": "1.2.0",
            "_view_name": "LayoutView",
            "align_content": null,
            "align_items": null,
            "align_self": null,
            "border": null,
            "bottom": null,
            "display": null,
            "flex": null,
            "flex_flow": null,
            "grid_area": null,
            "grid_auto_columns": null,
            "grid_auto_flow": null,
            "grid_auto_rows": null,
            "grid_column": null,
            "grid_gap": null,
            "grid_row": null,
            "grid_template_areas": null,
            "grid_template_columns": null,
            "grid_template_rows": null,
            "height": null,
            "justify_content": null,
            "justify_items": null,
            "left": null,
            "margin": null,
            "max_height": null,
            "max_width": null,
            "min_height": null,
            "min_width": null,
            "object_fit": null,
            "object_position": null,
            "order": null,
            "overflow": null,
            "overflow_x": null,
            "overflow_y": null,
            "padding": null,
            "right": null,
            "top": null,
            "visibility": null,
            "width": null
          }
        },
        "b4e27c914adb4a07b5f3476918d313ac": {
          "model_module": "@jupyter-widgets/controls",
          "model_module_version": "1.5.0",
          "model_name": "ProgressStyleModel",
          "state": {
            "_model_module": "@jupyter-widgets/controls",
            "_model_module_version": "1.5.0",
            "_model_name": "ProgressStyleModel",
            "_view_count": null,
            "_view_module": "@jupyter-widgets/base",
            "_view_module_version": "1.2.0",
            "_view_name": "StyleView",
            "bar_color": null,
            "description_width": ""
          }
        },
        "b8652c56cf7046868b83803ae0c78753": {
          "model_module": "@jupyter-widgets/base",
          "model_module_version": "1.2.0",
          "model_name": "LayoutModel",
          "state": {
            "_model_module": "@jupyter-widgets/base",
            "_model_module_version": "1.2.0",
            "_model_name": "LayoutModel",
            "_view_count": null,
            "_view_module": "@jupyter-widgets/base",
            "_view_module_version": "1.2.0",
            "_view_name": "LayoutView",
            "align_content": null,
            "align_items": null,
            "align_self": null,
            "border": null,
            "bottom": null,
            "display": null,
            "flex": null,
            "flex_flow": null,
            "grid_area": null,
            "grid_auto_columns": null,
            "grid_auto_flow": null,
            "grid_auto_rows": null,
            "grid_column": null,
            "grid_gap": null,
            "grid_row": null,
            "grid_template_areas": null,
            "grid_template_columns": null,
            "grid_template_rows": null,
            "height": null,
            "justify_content": null,
            "justify_items": null,
            "left": null,
            "margin": null,
            "max_height": null,
            "max_width": null,
            "min_height": null,
            "min_width": null,
            "object_fit": null,
            "object_position": null,
            "order": null,
            "overflow": null,
            "overflow_x": null,
            "overflow_y": null,
            "padding": null,
            "right": null,
            "top": null,
            "visibility": null,
            "width": null
          }
        },
        "b987721a01a24b49ab69949136787439": {
          "model_module": "@jupyter-widgets/controls",
          "model_module_version": "1.5.0",
          "model_name": "DescriptionStyleModel",
          "state": {
            "_model_module": "@jupyter-widgets/controls",
            "_model_module_version": "1.5.0",
            "_model_name": "DescriptionStyleModel",
            "_view_count": null,
            "_view_module": "@jupyter-widgets/base",
            "_view_module_version": "1.2.0",
            "_view_name": "StyleView",
            "description_width": ""
          }
        },
        "bbdba7e8a4bb4afc85d5d73a63c42457": {
          "model_module": "@jupyter-widgets/controls",
          "model_module_version": "1.5.0",
          "model_name": "FloatProgressModel",
          "state": {
            "_dom_classes": [],
            "_model_module": "@jupyter-widgets/controls",
            "_model_module_version": "1.5.0",
            "_model_name": "FloatProgressModel",
            "_view_count": null,
            "_view_module": "@jupyter-widgets/controls",
            "_view_module_version": "1.5.0",
            "_view_name": "ProgressView",
            "bar_style": "success",
            "description": "",
            "description_tooltip": null,
            "layout": "IPY_MODEL_e105caae75c146e58a6593b11eda72a0",
            "max": 127,
            "min": 0,
            "orientation": "horizontal",
            "style": "IPY_MODEL_4db29f7982ad4b7583d504594c474778",
            "value": 127
          }
        },
        "bcd70609bcca41f3aac2e219aa9530e1": {
          "model_module": "@jupyter-widgets/controls",
          "model_module_version": "1.5.0",
          "model_name": "HBoxModel",
          "state": {
            "_dom_classes": [],
            "_model_module": "@jupyter-widgets/controls",
            "_model_module_version": "1.5.0",
            "_model_name": "HBoxModel",
            "_view_count": null,
            "_view_module": "@jupyter-widgets/controls",
            "_view_module_version": "1.5.0",
            "_view_name": "HBoxView",
            "box_style": "",
            "children": [
              "IPY_MODEL_ec9911a808da4cc5ace1c9e30cce552f",
              "IPY_MODEL_6209c91d5ff94ea6bad7f4b0c2bb7197",
              "IPY_MODEL_6e705ae9b2224a6b9dc5009cf829882c"
            ],
            "layout": "IPY_MODEL_84cad0129e9f486abda08f9e33422cb2"
          }
        },
        "bda27d75919b4898b81a9392dc8df418": {
          "model_module": "@jupyter-widgets/controls",
          "model_module_version": "1.5.0",
          "model_name": "DescriptionStyleModel",
          "state": {
            "_model_module": "@jupyter-widgets/controls",
            "_model_module_version": "1.5.0",
            "_model_name": "DescriptionStyleModel",
            "_view_count": null,
            "_view_module": "@jupyter-widgets/base",
            "_view_module_version": "1.2.0",
            "_view_name": "StyleView",
            "description_width": ""
          }
        },
        "bfa83f16b0b94625989965bc77c358fa": {
          "model_module": "@jupyter-widgets/controls",
          "model_module_version": "1.5.0",
          "model_name": "HBoxModel",
          "state": {
            "_dom_classes": [],
            "_model_module": "@jupyter-widgets/controls",
            "_model_module_version": "1.5.0",
            "_model_name": "HBoxModel",
            "_view_count": null,
            "_view_module": "@jupyter-widgets/controls",
            "_view_module_version": "1.5.0",
            "_view_name": "HBoxView",
            "box_style": "",
            "children": [
              "IPY_MODEL_4bc09c818c0747d8abafd37d00337929",
              "IPY_MODEL_338c11229b224a7db62f0187f10f9ad1",
              "IPY_MODEL_cbaf1a97f4294bfeb44e813154fe3a6e"
            ],
            "layout": "IPY_MODEL_ce5c5af8d2c64fdab6fe87948303b2b0"
          }
        },
        "c654a9aa3567426fa34d12a791541d5d": {
          "model_module": "@jupyter-widgets/controls",
          "model_module_version": "1.5.0",
          "model_name": "FloatProgressModel",
          "state": {
            "_dom_classes": [],
            "_model_module": "@jupyter-widgets/controls",
            "_model_module_version": "1.5.0",
            "_model_name": "FloatProgressModel",
            "_view_count": null,
            "_view_module": "@jupyter-widgets/controls",
            "_view_module_version": "1.5.0",
            "_view_name": "ProgressView",
            "bar_style": "success",
            "description": "",
            "description_tooltip": null,
            "layout": "IPY_MODEL_e6e9ee41dad84638bbafe4570e5a2bf3",
            "max": 5348,
            "min": 0,
            "orientation": "horizontal",
            "style": "IPY_MODEL_a321c7f1b9894478828bd5a630f47e1d",
            "value": 5348
          }
        },
        "c6b33a1ab7c142fabaeae92dd7fd418e": {
          "model_module": "@jupyter-widgets/controls",
          "model_module_version": "1.5.0",
          "model_name": "FloatProgressModel",
          "state": {
            "_dom_classes": [],
            "_model_module": "@jupyter-widgets/controls",
            "_model_module_version": "1.5.0",
            "_model_name": "FloatProgressModel",
            "_view_count": null,
            "_view_module": "@jupyter-widgets/controls",
            "_view_module_version": "1.5.0",
            "_view_name": "ProgressView",
            "bar_style": "success",
            "description": "",
            "description_tooltip": null,
            "layout": "IPY_MODEL_70400a0cbb8044098322c0114812b36a",
            "max": 127,
            "min": 0,
            "orientation": "horizontal",
            "style": "IPY_MODEL_fb73073072e043afa78a7fa652554f46",
            "value": 127
          }
        },
        "c84abda5b0974fc0877d487247c934fb": {
          "model_module": "@jupyter-widgets/base",
          "model_module_version": "1.2.0",
          "model_name": "LayoutModel",
          "state": {
            "_model_module": "@jupyter-widgets/base",
            "_model_module_version": "1.2.0",
            "_model_name": "LayoutModel",
            "_view_count": null,
            "_view_module": "@jupyter-widgets/base",
            "_view_module_version": "1.2.0",
            "_view_name": "LayoutView",
            "align_content": null,
            "align_items": null,
            "align_self": null,
            "border": null,
            "bottom": null,
            "display": null,
            "flex": null,
            "flex_flow": null,
            "grid_area": null,
            "grid_auto_columns": null,
            "grid_auto_flow": null,
            "grid_auto_rows": null,
            "grid_column": null,
            "grid_gap": null,
            "grid_row": null,
            "grid_template_areas": null,
            "grid_template_columns": null,
            "grid_template_rows": null,
            "height": null,
            "justify_content": null,
            "justify_items": null,
            "left": null,
            "margin": null,
            "max_height": null,
            "max_width": null,
            "min_height": null,
            "min_width": null,
            "object_fit": null,
            "object_position": null,
            "order": null,
            "overflow": null,
            "overflow_x": null,
            "overflow_y": null,
            "padding": null,
            "right": null,
            "top": null,
            "visibility": null,
            "width": null
          }
        },
        "c907b6f03ba7418db1a92caf8a1258ae": {
          "model_module": "@jupyter-widgets/controls",
          "model_module_version": "1.5.0",
          "model_name": "HBoxModel",
          "state": {
            "_dom_classes": [],
            "_model_module": "@jupyter-widgets/controls",
            "_model_module_version": "1.5.0",
            "_model_name": "HBoxModel",
            "_view_count": null,
            "_view_module": "@jupyter-widgets/controls",
            "_view_module_version": "1.5.0",
            "_view_name": "HBoxView",
            "box_style": "",
            "children": [
              "IPY_MODEL_6e90e6aa60eb4e15a64586083fa225db",
              "IPY_MODEL_7fc77d44cf8c4e7481857f3187b28614",
              "IPY_MODEL_49c95606e0d9427690701247d85a8855"
            ],
            "layout": "IPY_MODEL_d8b6edd8381e4f5fa5e5e9a2ea0c7831"
          }
        },
        "ca5cc0d2488b4a5293604e9575ff3bc9": {
          "model_module": "@jupyter-widgets/controls",
          "model_module_version": "1.5.0",
          "model_name": "HTMLModel",
          "state": {
            "_dom_classes": [],
            "_model_module": "@jupyter-widgets/controls",
            "_model_module_version": "1.5.0",
            "_model_name": "HTMLModel",
            "_view_count": null,
            "_view_module": "@jupyter-widgets/controls",
            "_view_module_version": "1.5.0",
            "_view_name": "HTMLView",
            "description": "",
            "description_tooltip": null,
            "layout": "IPY_MODEL_881482b0cc544d158b310049e0875a9b",
            "placeholder": "​",
            "style": "IPY_MODEL_2810f019f1104d2e80754ab310897071",
            "value": "100%"
          }
        },
        "cb9550cf5d2945a7acc3ca6a91a18a97": {
          "model_module": "@jupyter-widgets/controls",
          "model_module_version": "1.5.0",
          "model_name": "ProgressStyleModel",
          "state": {
            "_model_module": "@jupyter-widgets/controls",
            "_model_module_version": "1.5.0",
            "_model_name": "ProgressStyleModel",
            "_view_count": null,
            "_view_module": "@jupyter-widgets/base",
            "_view_module_version": "1.2.0",
            "_view_name": "StyleView",
            "bar_color": null,
            "description_width": ""
          }
        },
        "cbaf1a97f4294bfeb44e813154fe3a6e": {
          "model_module": "@jupyter-widgets/controls",
          "model_module_version": "1.5.0",
          "model_name": "HTMLModel",
          "state": {
            "_dom_classes": [],
            "_model_module": "@jupyter-widgets/controls",
            "_model_module_version": "1.5.0",
            "_model_name": "HTMLModel",
            "_view_count": null,
            "_view_module": "@jupyter-widgets/controls",
            "_view_module_version": "1.5.0",
            "_view_name": "HTMLView",
            "description": "",
            "description_tooltip": null,
            "layout": "IPY_MODEL_de0107eb993d41898651c15bb9db5dfc",
            "placeholder": "​",
            "style": "IPY_MODEL_5e2a168729494983a330acf285479123",
            "value": " 5031/5031 [01:13&lt;00:00, 100.30it/s]"
          }
        },
        "ccd68227ed4d45e395662671332a4dbd": {
          "model_module": "@jupyter-widgets/controls",
          "model_module_version": "1.5.0",
          "model_name": "ProgressStyleModel",
          "state": {
            "_model_module": "@jupyter-widgets/controls",
            "_model_module_version": "1.5.0",
            "_model_name": "ProgressStyleModel",
            "_view_count": null,
            "_view_module": "@jupyter-widgets/base",
            "_view_module_version": "1.2.0",
            "_view_name": "StyleView",
            "bar_color": null,
            "description_width": ""
          }
        },
        "ce5c5af8d2c64fdab6fe87948303b2b0": {
          "model_module": "@jupyter-widgets/base",
          "model_module_version": "1.2.0",
          "model_name": "LayoutModel",
          "state": {
            "_model_module": "@jupyter-widgets/base",
            "_model_module_version": "1.2.0",
            "_model_name": "LayoutModel",
            "_view_count": null,
            "_view_module": "@jupyter-widgets/base",
            "_view_module_version": "1.2.0",
            "_view_name": "LayoutView",
            "align_content": null,
            "align_items": null,
            "align_self": null,
            "border": null,
            "bottom": null,
            "display": null,
            "flex": null,
            "flex_flow": null,
            "grid_area": null,
            "grid_auto_columns": null,
            "grid_auto_flow": null,
            "grid_auto_rows": null,
            "grid_column": null,
            "grid_gap": null,
            "grid_row": null,
            "grid_template_areas": null,
            "grid_template_columns": null,
            "grid_template_rows": null,
            "height": null,
            "justify_content": null,
            "justify_items": null,
            "left": null,
            "margin": null,
            "max_height": null,
            "max_width": null,
            "min_height": null,
            "min_width": null,
            "object_fit": null,
            "object_position": null,
            "order": null,
            "overflow": null,
            "overflow_x": null,
            "overflow_y": null,
            "padding": null,
            "right": null,
            "top": null,
            "visibility": null,
            "width": null
          }
        },
        "d2df4e3c3b904ed492e0bf4930d5e805": {
          "model_module": "@jupyter-widgets/controls",
          "model_module_version": "1.5.0",
          "model_name": "HBoxModel",
          "state": {
            "_dom_classes": [],
            "_model_module": "@jupyter-widgets/controls",
            "_model_module_version": "1.5.0",
            "_model_name": "HBoxModel",
            "_view_count": null,
            "_view_module": "@jupyter-widgets/controls",
            "_view_module_version": "1.5.0",
            "_view_name": "HBoxView",
            "box_style": "",
            "children": [
              "IPY_MODEL_4c71c61957ba441488a5aeb875f4add8",
              "IPY_MODEL_dd9995e071d24a70bdeb76ce42569522",
              "IPY_MODEL_1a9a5427dc2d49b98e3bd93aaf10b167"
            ],
            "layout": "IPY_MODEL_fd341bd73ad24d08951d77a0af1b012f"
          }
        },
        "d6a0cda573e34cdebd1f6fc1ba88e85a": {
          "model_module": "@jupyter-widgets/controls",
          "model_module_version": "1.5.0",
          "model_name": "HTMLModel",
          "state": {
            "_dom_classes": [],
            "_model_module": "@jupyter-widgets/controls",
            "_model_module_version": "1.5.0",
            "_model_name": "HTMLModel",
            "_view_count": null,
            "_view_module": "@jupyter-widgets/controls",
            "_view_module_version": "1.5.0",
            "_view_name": "HTMLView",
            "description": "",
            "description_tooltip": null,
            "layout": "IPY_MODEL_1e246a7f15dc46a8b751aca21439f898",
            "placeholder": "​",
            "style": "IPY_MODEL_99af6f25bc624a4991e08d2087f1ff9f",
            "value": "100%"
          }
        },
        "d8b6edd8381e4f5fa5e5e9a2ea0c7831": {
          "model_module": "@jupyter-widgets/base",
          "model_module_version": "1.2.0",
          "model_name": "LayoutModel",
          "state": {
            "_model_module": "@jupyter-widgets/base",
            "_model_module_version": "1.2.0",
            "_model_name": "LayoutModel",
            "_view_count": null,
            "_view_module": "@jupyter-widgets/base",
            "_view_module_version": "1.2.0",
            "_view_name": "LayoutView",
            "align_content": null,
            "align_items": null,
            "align_self": null,
            "border": null,
            "bottom": null,
            "display": null,
            "flex": null,
            "flex_flow": null,
            "grid_area": null,
            "grid_auto_columns": null,
            "grid_auto_flow": null,
            "grid_auto_rows": null,
            "grid_column": null,
            "grid_gap": null,
            "grid_row": null,
            "grid_template_areas": null,
            "grid_template_columns": null,
            "grid_template_rows": null,
            "height": null,
            "justify_content": null,
            "justify_items": null,
            "left": null,
            "margin": null,
            "max_height": null,
            "max_width": null,
            "min_height": null,
            "min_width": null,
            "object_fit": null,
            "object_position": null,
            "order": null,
            "overflow": null,
            "overflow_x": null,
            "overflow_y": null,
            "padding": null,
            "right": null,
            "top": null,
            "visibility": null,
            "width": null
          }
        },
        "d985a20140344708a1d96a21a83c16a4": {
          "model_module": "@jupyter-widgets/base",
          "model_module_version": "1.2.0",
          "model_name": "LayoutModel",
          "state": {
            "_model_module": "@jupyter-widgets/base",
            "_model_module_version": "1.2.0",
            "_model_name": "LayoutModel",
            "_view_count": null,
            "_view_module": "@jupyter-widgets/base",
            "_view_module_version": "1.2.0",
            "_view_name": "LayoutView",
            "align_content": null,
            "align_items": null,
            "align_self": null,
            "border": null,
            "bottom": null,
            "display": null,
            "flex": null,
            "flex_flow": null,
            "grid_area": null,
            "grid_auto_columns": null,
            "grid_auto_flow": null,
            "grid_auto_rows": null,
            "grid_column": null,
            "grid_gap": null,
            "grid_row": null,
            "grid_template_areas": null,
            "grid_template_columns": null,
            "grid_template_rows": null,
            "height": null,
            "justify_content": null,
            "justify_items": null,
            "left": null,
            "margin": null,
            "max_height": null,
            "max_width": null,
            "min_height": null,
            "min_width": null,
            "object_fit": null,
            "object_position": null,
            "order": null,
            "overflow": null,
            "overflow_x": null,
            "overflow_y": null,
            "padding": null,
            "right": null,
            "top": null,
            "visibility": null,
            "width": null
          }
        },
        "dd9995e071d24a70bdeb76ce42569522": {
          "model_module": "@jupyter-widgets/controls",
          "model_module_version": "1.5.0",
          "model_name": "FloatProgressModel",
          "state": {
            "_dom_classes": [],
            "_model_module": "@jupyter-widgets/controls",
            "_model_module_version": "1.5.0",
            "_model_name": "FloatProgressModel",
            "_view_count": null,
            "_view_module": "@jupyter-widgets/controls",
            "_view_module_version": "1.5.0",
            "_view_name": "ProgressView",
            "bar_style": "success",
            "description": "",
            "description_tooltip": null,
            "layout": "IPY_MODEL_5ef1ef6e65dc445599b78a6feb78c0e8",
            "max": 127,
            "min": 0,
            "orientation": "horizontal",
            "style": "IPY_MODEL_30e9d23ec7f24be3a3d263669bbde604",
            "value": 127
          }
        },
        "de0107eb993d41898651c15bb9db5dfc": {
          "model_module": "@jupyter-widgets/base",
          "model_module_version": "1.2.0",
          "model_name": "LayoutModel",
          "state": {
            "_model_module": "@jupyter-widgets/base",
            "_model_module_version": "1.2.0",
            "_model_name": "LayoutModel",
            "_view_count": null,
            "_view_module": "@jupyter-widgets/base",
            "_view_module_version": "1.2.0",
            "_view_name": "LayoutView",
            "align_content": null,
            "align_items": null,
            "align_self": null,
            "border": null,
            "bottom": null,
            "display": null,
            "flex": null,
            "flex_flow": null,
            "grid_area": null,
            "grid_auto_columns": null,
            "grid_auto_flow": null,
            "grid_auto_rows": null,
            "grid_column": null,
            "grid_gap": null,
            "grid_row": null,
            "grid_template_areas": null,
            "grid_template_columns": null,
            "grid_template_rows": null,
            "height": null,
            "justify_content": null,
            "justify_items": null,
            "left": null,
            "margin": null,
            "max_height": null,
            "max_width": null,
            "min_height": null,
            "min_width": null,
            "object_fit": null,
            "object_position": null,
            "order": null,
            "overflow": null,
            "overflow_x": null,
            "overflow_y": null,
            "padding": null,
            "right": null,
            "top": null,
            "visibility": null,
            "width": null
          }
        },
        "de4661d35bb347f8adbec80b6738fc11": {
          "model_module": "@jupyter-widgets/controls",
          "model_module_version": "1.5.0",
          "model_name": "DescriptionStyleModel",
          "state": {
            "_model_module": "@jupyter-widgets/controls",
            "_model_module_version": "1.5.0",
            "_model_name": "DescriptionStyleModel",
            "_view_count": null,
            "_view_module": "@jupyter-widgets/base",
            "_view_module_version": "1.2.0",
            "_view_name": "StyleView",
            "description_width": ""
          }
        },
        "e066db5c23434807abea0df103ebcd13": {
          "model_module": "@jupyter-widgets/base",
          "model_module_version": "1.2.0",
          "model_name": "LayoutModel",
          "state": {
            "_model_module": "@jupyter-widgets/base",
            "_model_module_version": "1.2.0",
            "_model_name": "LayoutModel",
            "_view_count": null,
            "_view_module": "@jupyter-widgets/base",
            "_view_module_version": "1.2.0",
            "_view_name": "LayoutView",
            "align_content": null,
            "align_items": null,
            "align_self": null,
            "border": null,
            "bottom": null,
            "display": null,
            "flex": null,
            "flex_flow": null,
            "grid_area": null,
            "grid_auto_columns": null,
            "grid_auto_flow": null,
            "grid_auto_rows": null,
            "grid_column": null,
            "grid_gap": null,
            "grid_row": null,
            "grid_template_areas": null,
            "grid_template_columns": null,
            "grid_template_rows": null,
            "height": null,
            "justify_content": null,
            "justify_items": null,
            "left": null,
            "margin": null,
            "max_height": null,
            "max_width": null,
            "min_height": null,
            "min_width": null,
            "object_fit": null,
            "object_position": null,
            "order": null,
            "overflow": null,
            "overflow_x": null,
            "overflow_y": null,
            "padding": null,
            "right": null,
            "top": null,
            "visibility": null,
            "width": null
          }
        },
        "e105caae75c146e58a6593b11eda72a0": {
          "model_module": "@jupyter-widgets/base",
          "model_module_version": "1.2.0",
          "model_name": "LayoutModel",
          "state": {
            "_model_module": "@jupyter-widgets/base",
            "_model_module_version": "1.2.0",
            "_model_name": "LayoutModel",
            "_view_count": null,
            "_view_module": "@jupyter-widgets/base",
            "_view_module_version": "1.2.0",
            "_view_name": "LayoutView",
            "align_content": null,
            "align_items": null,
            "align_self": null,
            "border": null,
            "bottom": null,
            "display": null,
            "flex": null,
            "flex_flow": null,
            "grid_area": null,
            "grid_auto_columns": null,
            "grid_auto_flow": null,
            "grid_auto_rows": null,
            "grid_column": null,
            "grid_gap": null,
            "grid_row": null,
            "grid_template_areas": null,
            "grid_template_columns": null,
            "grid_template_rows": null,
            "height": null,
            "justify_content": null,
            "justify_items": null,
            "left": null,
            "margin": null,
            "max_height": null,
            "max_width": null,
            "min_height": null,
            "min_width": null,
            "object_fit": null,
            "object_position": null,
            "order": null,
            "overflow": null,
            "overflow_x": null,
            "overflow_y": null,
            "padding": null,
            "right": null,
            "top": null,
            "visibility": null,
            "width": null
          }
        },
        "e1c472d713ec41d5870754f6cbcbcf35": {
          "model_module": "@jupyter-widgets/controls",
          "model_module_version": "1.5.0",
          "model_name": "ProgressStyleModel",
          "state": {
            "_model_module": "@jupyter-widgets/controls",
            "_model_module_version": "1.5.0",
            "_model_name": "ProgressStyleModel",
            "_view_count": null,
            "_view_module": "@jupyter-widgets/base",
            "_view_module_version": "1.2.0",
            "_view_name": "StyleView",
            "bar_color": null,
            "description_width": ""
          }
        },
        "e429cfb6f9544668abe2f39f5624fbc5": {
          "model_module": "@jupyter-widgets/base",
          "model_module_version": "1.2.0",
          "model_name": "LayoutModel",
          "state": {
            "_model_module": "@jupyter-widgets/base",
            "_model_module_version": "1.2.0",
            "_model_name": "LayoutModel",
            "_view_count": null,
            "_view_module": "@jupyter-widgets/base",
            "_view_module_version": "1.2.0",
            "_view_name": "LayoutView",
            "align_content": null,
            "align_items": null,
            "align_self": null,
            "border": null,
            "bottom": null,
            "display": null,
            "flex": null,
            "flex_flow": null,
            "grid_area": null,
            "grid_auto_columns": null,
            "grid_auto_flow": null,
            "grid_auto_rows": null,
            "grid_column": null,
            "grid_gap": null,
            "grid_row": null,
            "grid_template_areas": null,
            "grid_template_columns": null,
            "grid_template_rows": null,
            "height": null,
            "justify_content": null,
            "justify_items": null,
            "left": null,
            "margin": null,
            "max_height": null,
            "max_width": null,
            "min_height": null,
            "min_width": null,
            "object_fit": null,
            "object_position": null,
            "order": null,
            "overflow": null,
            "overflow_x": null,
            "overflow_y": null,
            "padding": null,
            "right": null,
            "top": null,
            "visibility": null,
            "width": null
          }
        },
        "e6e9ee41dad84638bbafe4570e5a2bf3": {
          "model_module": "@jupyter-widgets/base",
          "model_module_version": "1.2.0",
          "model_name": "LayoutModel",
          "state": {
            "_model_module": "@jupyter-widgets/base",
            "_model_module_version": "1.2.0",
            "_model_name": "LayoutModel",
            "_view_count": null,
            "_view_module": "@jupyter-widgets/base",
            "_view_module_version": "1.2.0",
            "_view_name": "LayoutView",
            "align_content": null,
            "align_items": null,
            "align_self": null,
            "border": null,
            "bottom": null,
            "display": null,
            "flex": null,
            "flex_flow": null,
            "grid_area": null,
            "grid_auto_columns": null,
            "grid_auto_flow": null,
            "grid_auto_rows": null,
            "grid_column": null,
            "grid_gap": null,
            "grid_row": null,
            "grid_template_areas": null,
            "grid_template_columns": null,
            "grid_template_rows": null,
            "height": null,
            "justify_content": null,
            "justify_items": null,
            "left": null,
            "margin": null,
            "max_height": null,
            "max_width": null,
            "min_height": null,
            "min_width": null,
            "object_fit": null,
            "object_position": null,
            "order": null,
            "overflow": null,
            "overflow_x": null,
            "overflow_y": null,
            "padding": null,
            "right": null,
            "top": null,
            "visibility": null,
            "width": null
          }
        },
        "e80775e90ee04003a20682aaea2a577b": {
          "model_module": "@jupyter-widgets/controls",
          "model_module_version": "1.5.0",
          "model_name": "DescriptionStyleModel",
          "state": {
            "_model_module": "@jupyter-widgets/controls",
            "_model_module_version": "1.5.0",
            "_model_name": "DescriptionStyleModel",
            "_view_count": null,
            "_view_module": "@jupyter-widgets/base",
            "_view_module_version": "1.2.0",
            "_view_name": "StyleView",
            "description_width": ""
          }
        },
        "e86e5bb2cdd447c2bf706a987d47c17e": {
          "model_module": "@jupyter-widgets/base",
          "model_module_version": "1.2.0",
          "model_name": "LayoutModel",
          "state": {
            "_model_module": "@jupyter-widgets/base",
            "_model_module_version": "1.2.0",
            "_model_name": "LayoutModel",
            "_view_count": null,
            "_view_module": "@jupyter-widgets/base",
            "_view_module_version": "1.2.0",
            "_view_name": "LayoutView",
            "align_content": null,
            "align_items": null,
            "align_self": null,
            "border": null,
            "bottom": null,
            "display": null,
            "flex": null,
            "flex_flow": null,
            "grid_area": null,
            "grid_auto_columns": null,
            "grid_auto_flow": null,
            "grid_auto_rows": null,
            "grid_column": null,
            "grid_gap": null,
            "grid_row": null,
            "grid_template_areas": null,
            "grid_template_columns": null,
            "grid_template_rows": null,
            "height": null,
            "justify_content": null,
            "justify_items": null,
            "left": null,
            "margin": null,
            "max_height": null,
            "max_width": null,
            "min_height": null,
            "min_width": null,
            "object_fit": null,
            "object_position": null,
            "order": null,
            "overflow": null,
            "overflow_x": null,
            "overflow_y": null,
            "padding": null,
            "right": null,
            "top": null,
            "visibility": null,
            "width": null
          }
        },
        "ea7b812ef9b346818a7e91898e6966bd": {
          "model_module": "@jupyter-widgets/controls",
          "model_module_version": "1.5.0",
          "model_name": "FloatProgressModel",
          "state": {
            "_dom_classes": [],
            "_model_module": "@jupyter-widgets/controls",
            "_model_module_version": "1.5.0",
            "_model_name": "FloatProgressModel",
            "_view_count": null,
            "_view_module": "@jupyter-widgets/controls",
            "_view_module_version": "1.5.0",
            "_view_name": "ProgressView",
            "bar_style": "success",
            "description": "",
            "description_tooltip": null,
            "layout": "IPY_MODEL_b3f6fd3d0b1844bebb8344e9dc301b1e",
            "max": 9028,
            "min": 0,
            "orientation": "horizontal",
            "style": "IPY_MODEL_25600dc39b1b48d88c91f44d738621d9",
            "value": 9028
          }
        },
        "ea8890ed7120455cb68df2436f91b41e": {
          "model_module": "@jupyter-widgets/controls",
          "model_module_version": "1.5.0",
          "model_name": "DescriptionStyleModel",
          "state": {
            "_model_module": "@jupyter-widgets/controls",
            "_model_module_version": "1.5.0",
            "_model_name": "DescriptionStyleModel",
            "_view_count": null,
            "_view_module": "@jupyter-widgets/base",
            "_view_module_version": "1.2.0",
            "_view_name": "StyleView",
            "description_width": ""
          }
        },
        "ec9911a808da4cc5ace1c9e30cce552f": {
          "model_module": "@jupyter-widgets/controls",
          "model_module_version": "1.5.0",
          "model_name": "HTMLModel",
          "state": {
            "_dom_classes": [],
            "_model_module": "@jupyter-widgets/controls",
            "_model_module_version": "1.5.0",
            "_model_name": "HTMLModel",
            "_view_count": null,
            "_view_module": "@jupyter-widgets/controls",
            "_view_module_version": "1.5.0",
            "_view_name": "HTMLView",
            "description": "",
            "description_tooltip": null,
            "layout": "IPY_MODEL_b8652c56cf7046868b83803ae0c78753",
            "placeholder": "​",
            "style": "IPY_MODEL_43064f43610e4958829426d5df1b9310",
            "value": "100%"
          }
        },
        "fb73073072e043afa78a7fa652554f46": {
          "model_module": "@jupyter-widgets/controls",
          "model_module_version": "1.5.0",
          "model_name": "ProgressStyleModel",
          "state": {
            "_model_module": "@jupyter-widgets/controls",
            "_model_module_version": "1.5.0",
            "_model_name": "ProgressStyleModel",
            "_view_count": null,
            "_view_module": "@jupyter-widgets/base",
            "_view_module_version": "1.2.0",
            "_view_name": "StyleView",
            "bar_color": null,
            "description_width": ""
          }
        },
        "fbcb5348c000470497517f9d8558eb75": {
          "model_module": "@jupyter-widgets/controls",
          "model_module_version": "1.5.0",
          "model_name": "DescriptionStyleModel",
          "state": {
            "_model_module": "@jupyter-widgets/controls",
            "_model_module_version": "1.5.0",
            "_model_name": "DescriptionStyleModel",
            "_view_count": null,
            "_view_module": "@jupyter-widgets/base",
            "_view_module_version": "1.2.0",
            "_view_name": "StyleView",
            "description_width": ""
          }
        },
        "fd341bd73ad24d08951d77a0af1b012f": {
          "model_module": "@jupyter-widgets/base",
          "model_module_version": "1.2.0",
          "model_name": "LayoutModel",
          "state": {
            "_model_module": "@jupyter-widgets/base",
            "_model_module_version": "1.2.0",
            "_model_name": "LayoutModel",
            "_view_count": null,
            "_view_module": "@jupyter-widgets/base",
            "_view_module_version": "1.2.0",
            "_view_name": "LayoutView",
            "align_content": null,
            "align_items": null,
            "align_self": null,
            "border": null,
            "bottom": null,
            "display": null,
            "flex": null,
            "flex_flow": null,
            "grid_area": null,
            "grid_auto_columns": null,
            "grid_auto_flow": null,
            "grid_auto_rows": null,
            "grid_column": null,
            "grid_gap": null,
            "grid_row": null,
            "grid_template_areas": null,
            "grid_template_columns": null,
            "grid_template_rows": null,
            "height": null,
            "justify_content": null,
            "justify_items": null,
            "left": null,
            "margin": null,
            "max_height": null,
            "max_width": null,
            "min_height": null,
            "min_width": null,
            "object_fit": null,
            "object_position": null,
            "order": null,
            "overflow": null,
            "overflow_x": null,
            "overflow_y": null,
            "padding": null,
            "right": null,
            "top": null,
            "visibility": null,
            "width": null
          }
        }
      }
    }
  },
  "nbformat": 4,
  "nbformat_minor": 0
}
